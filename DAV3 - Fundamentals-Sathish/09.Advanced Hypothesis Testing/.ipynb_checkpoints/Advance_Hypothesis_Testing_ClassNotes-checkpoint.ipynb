{
  "cells": [
    {
      "cell_type": "code",
      "execution_count": 7,
      "metadata": {
        "id": "E15Rtq4SDACQ"
      },
      "outputs": [],
      "source": [
        "import pandas as pd\n",
        "import numpy as np\n",
        "import matplotlib.pyplot as plt\n",
        "import seaborn as sns\n",
        "from scipy.stats import ttest_ind, kstest\n",
        "from statsmodels.formula.api import ols\n",
        "import statsmodels.api as sm"
      ]
    },
    {
      "cell_type": "code",
      "execution_count": null,
      "metadata": {
        "id": "uz8C-XwGL3ei"
      },
      "outputs": [],
      "source": []
    },
    {
      "cell_type": "code",
      "execution_count": 8,
      "metadata": {
        "colab": {
          "base_uri": "https://localhost:8080/"
        },
        "id": "zWpjK4J5LsqQ",
        "outputId": "fb19d741-48d8-40d2-821d-2afaa1e3092c"
      },
      "outputs": [
        {
          "name": "stdout",
          "output_type": "stream",
          "text": [
            "--2024-10-03 12:55:55--  https://drive.google.com/uc?id=1BbOJnKXUEPWrhjjLlZS_2-HoGvtZeubb\n",
            "Resolving drive.google.com (drive.google.com)... 2404:6800:4007:809::200e, 142.250.70.78\n",
            "Connecting to drive.google.com (drive.google.com)|2404:6800:4007:809::200e|:443... connected.\n",
            "HTTP request sent, awaiting response... 303 See Other\n",
            "Location: https://drive.usercontent.google.com/download?id=1BbOJnKXUEPWrhjjLlZS_2-HoGvtZeubb [following]\n",
            "--2024-10-03 12:55:56--  https://drive.usercontent.google.com/download?id=1BbOJnKXUEPWrhjjLlZS_2-HoGvtZeubb\n",
            "Resolving drive.usercontent.google.com (drive.usercontent.google.com)... 2404:6800:4007:824::2001, 142.250.192.33\n",
            "Connecting to drive.usercontent.google.com (drive.usercontent.google.com)|2404:6800:4007:824::2001|:443... connected.\n",
            "HTTP request sent, awaiting response... 200 OK\n",
            "Length: 428120 (418K) [application/octet-stream]\n",
            "Saving to: ‘weight-height.csv’\n",
            "\n",
            "weight-height.csv   100%[===================>] 418.09K  1.07MB/s    in 0.4s    \n",
            "\n",
            "2024-10-03 12:55:59 (1.07 MB/s) - ‘weight-height.csv’ saved [428120/428120]\n",
            "\n"
          ]
        }
      ],
      "source": [
        "!wget --no-check-certificate https://drive.google.com/uc?id=1BbOJnKXUEPWrhjjLlZS_2-HoGvtZeubb -O weight-height.csv"
      ]
    },
    {
      "cell_type": "code",
      "execution_count": null,
      "metadata": {
        "id": "JT26p2rFMn14"
      },
      "outputs": [],
      "source": []
    },
    {
      "cell_type": "code",
      "execution_count": 9,
      "metadata": {
        "colab": {
          "base_uri": "https://localhost:8080/",
          "height": 423
        },
        "id": "0IOGyWgrLs-z",
        "outputId": "1179e0a7-3399-4ea9-8d44-e7712af5f85a"
      },
      "outputs": [
        {
          "data": {
            "text/html": [
              "<div>\n",
              "<style scoped>\n",
              "    .dataframe tbody tr th:only-of-type {\n",
              "        vertical-align: middle;\n",
              "    }\n",
              "\n",
              "    .dataframe tbody tr th {\n",
              "        vertical-align: top;\n",
              "    }\n",
              "\n",
              "    .dataframe thead th {\n",
              "        text-align: right;\n",
              "    }\n",
              "</style>\n",
              "<table border=\"1\" class=\"dataframe\">\n",
              "  <thead>\n",
              "    <tr style=\"text-align: right;\">\n",
              "      <th></th>\n",
              "      <th>Gender</th>\n",
              "      <th>Height</th>\n",
              "      <th>Weight</th>\n",
              "    </tr>\n",
              "  </thead>\n",
              "  <tbody>\n",
              "    <tr>\n",
              "      <th>0</th>\n",
              "      <td>Male</td>\n",
              "      <td>73.847017</td>\n",
              "      <td>241.893563</td>\n",
              "    </tr>\n",
              "    <tr>\n",
              "      <th>1</th>\n",
              "      <td>Male</td>\n",
              "      <td>68.781904</td>\n",
              "      <td>162.310473</td>\n",
              "    </tr>\n",
              "    <tr>\n",
              "      <th>2</th>\n",
              "      <td>Male</td>\n",
              "      <td>74.110105</td>\n",
              "      <td>212.740856</td>\n",
              "    </tr>\n",
              "    <tr>\n",
              "      <th>3</th>\n",
              "      <td>Male</td>\n",
              "      <td>71.730978</td>\n",
              "      <td>220.042470</td>\n",
              "    </tr>\n",
              "    <tr>\n",
              "      <th>4</th>\n",
              "      <td>Male</td>\n",
              "      <td>69.881796</td>\n",
              "      <td>206.349801</td>\n",
              "    </tr>\n",
              "    <tr>\n",
              "      <th>...</th>\n",
              "      <td>...</td>\n",
              "      <td>...</td>\n",
              "      <td>...</td>\n",
              "    </tr>\n",
              "    <tr>\n",
              "      <th>9995</th>\n",
              "      <td>Female</td>\n",
              "      <td>66.172652</td>\n",
              "      <td>136.777454</td>\n",
              "    </tr>\n",
              "    <tr>\n",
              "      <th>9996</th>\n",
              "      <td>Female</td>\n",
              "      <td>67.067155</td>\n",
              "      <td>170.867906</td>\n",
              "    </tr>\n",
              "    <tr>\n",
              "      <th>9997</th>\n",
              "      <td>Female</td>\n",
              "      <td>63.867992</td>\n",
              "      <td>128.475319</td>\n",
              "    </tr>\n",
              "    <tr>\n",
              "      <th>9998</th>\n",
              "      <td>Female</td>\n",
              "      <td>69.034243</td>\n",
              "      <td>163.852461</td>\n",
              "    </tr>\n",
              "    <tr>\n",
              "      <th>9999</th>\n",
              "      <td>Female</td>\n",
              "      <td>61.944246</td>\n",
              "      <td>113.649103</td>\n",
              "    </tr>\n",
              "  </tbody>\n",
              "</table>\n",
              "<p>10000 rows × 3 columns</p>\n",
              "</div>"
            ],
            "text/plain": [
              "      Gender     Height      Weight\n",
              "0       Male  73.847017  241.893563\n",
              "1       Male  68.781904  162.310473\n",
              "2       Male  74.110105  212.740856\n",
              "3       Male  71.730978  220.042470\n",
              "4       Male  69.881796  206.349801\n",
              "...      ...        ...         ...\n",
              "9995  Female  66.172652  136.777454\n",
              "9996  Female  67.067155  170.867906\n",
              "9997  Female  63.867992  128.475319\n",
              "9998  Female  69.034243  163.852461\n",
              "9999  Female  61.944246  113.649103\n",
              "\n",
              "[10000 rows x 3 columns]"
            ]
          },
          "execution_count": 9,
          "metadata": {},
          "output_type": "execute_result"
        }
      ],
      "source": [
        "df_hw = pd.read_csv('weight-height.csv')\n",
        "df_hw"
      ]
    },
    {
      "cell_type": "code",
      "execution_count": 10,
      "metadata": {
        "colab": {
          "base_uri": "https://localhost:8080/",
          "height": 466
        },
        "id": "baDeWNPmL4OG",
        "outputId": "5eb9f4ba-5a44-40bc-e171-9f4b374ab41e"
      },
      "outputs": [
        {
          "data": {
            "text/plain": [
              "<AxesSubplot: xlabel='Height', ylabel='Count'>"
            ]
          },
          "execution_count": 10,
          "metadata": {},
          "output_type": "execute_result"
        },
        {
          "data": {
            "image/png": "[encoded data removed]",
            "text/plain": [
              "<Figure size 640x480 with 1 Axes>"
            ]
          },
          "metadata": {},
          "output_type": "display_data"
        }
      ],
      "source": [
        "sns.histplot(data=df_hw, x='Height', hue='Gender')"
      ]
    },
    {
      "cell_type": "code",
      "execution_count": 11,
      "metadata": {
        "id": "xdByrycmMojN"
      },
      "outputs": [],
      "source": [
        "height_men = df_hw[df_hw['Gender']=='Male']['Height']\n",
        "height_women = df_hw[df_hw['Gender']=='Female']['Height']"
      ]
    },
    {
      "cell_type": "code",
      "execution_count": 12,
      "metadata": {
        "colab": {
          "base_uri": "https://localhost:8080/"
        },
        "id": "_bjAusfTM26p",
        "outputId": "f2149675-a310-4d35-f709-bc8ac131c4a8"
      },
      "outputs": [
        {
          "data": {
            "text/plain": [
              "8.19884325252049"
            ]
          },
          "execution_count": 12,
          "metadata": {},
          "output_type": "execute_result"
        }
      ],
      "source": [
        "height_men.var()"
      ]
    },
    {
      "cell_type": "code",
      "execution_count": 13,
      "metadata": {
        "colab": {
          "base_uri": "https://localhost:8080/"
        },
        "id": "aBX3Mmq8M85t",
        "outputId": "1920519c-daf3-40c5-c84b-fd40cafd4b1f"
      },
      "outputs": [
        {
          "data": {
            "text/plain": [
              "7.269947493670132"
            ]
          },
          "execution_count": 13,
          "metadata": {},
          "output_type": "execute_result"
        }
      ],
      "source": [
        "height_women.var()"
      ]
    },
    {
      "cell_type": "code",
      "execution_count": 14,
      "metadata": {
        "colab": {
          "base_uri": "https://localhost:8080/"
        },
        "id": "ookwlED-NBKR",
        "outputId": "d5248224-0b8a-4517-d1f1-e3a13a59ec90"
      },
      "outputs": [
        {
          "data": {
            "text/plain": [
              "69.02634590621741"
            ]
          },
          "execution_count": 14,
          "metadata": {},
          "output_type": "execute_result"
        }
      ],
      "source": [
        "height_men.mean()"
      ]
    },
    {
      "cell_type": "code",
      "execution_count": 15,
      "metadata": {
        "colab": {
          "base_uri": "https://localhost:8080/"
        },
        "id": "DjXuAcU2ND-Y",
        "outputId": "99138876-2260-4039-e551-4bc92d7de8bc"
      },
      "outputs": [
        {
          "data": {
            "text/plain": [
              "63.70877360342507"
            ]
          },
          "execution_count": 15,
          "metadata": {},
          "output_type": "execute_result"
        }
      ],
      "source": [
        "height_women.mean()"
      ]
    },
    {
      "cell_type": "code",
      "execution_count": 16,
      "metadata": {
        "id": "rPHr4h_TNSR3"
      },
      "outputs": [],
      "source": [
        "# h0 : variances are equal\n",
        "\n",
        "# ha : variances are not equal\n",
        "\n",
        "from scipy.stats import levene"
      ]
    },
    {
      "cell_type": "code",
      "execution_count": 17,
      "metadata": {
        "colab": {
          "base_uri": "https://localhost:8080/"
        },
        "id": "b8HkLW_KNZXU",
        "outputId": "de125f3c-7ba0-4ba0-cbb2-352946714d39"
      },
      "outputs": [
        {
          "data": {
            "text/plain": [
              "0.0004586349895436178"
            ]
          },
          "execution_count": 17,
          "metadata": {},
          "output_type": "execute_result"
        }
      ],
      "source": [
        "l_stat, p_val = levene(height_men, height_women)\n",
        "p_val"
      ]
    },
    {
      "cell_type": "markdown",
      "metadata": {
        "id": "NnNR42SpSW1S"
      },
      "source": [
        "## TWO-Way ANOVA"
      ]
    },
    {
      "cell_type": "code",
      "execution_count": 18,
      "metadata": {
        "colab": {
          "base_uri": "https://localhost:8080/"
        },
        "id": "wMJs3AmkSYvH",
        "outputId": "528359fc-330c-46ed-fdef-a7451b7528b9"
      },
      "outputs": [
        {
          "name": "stdout",
          "output_type": "stream",
          "text": [
            "--2024-10-03 12:56:00--  https://drive.google.com/uc?id=1Vy0OPYInhYxuZzSn415DsguHWVH7ROe0\n",
            "Resolving drive.google.com (drive.google.com)... 2404:6800:4007:809::200e, 142.250.70.78\n",
            "Connecting to drive.google.com (drive.google.com)|2404:6800:4007:809::200e|:443... connected.\n",
            "HTTP request sent, awaiting response... 303 See Other\n",
            "Location: https://drive.usercontent.google.com/download?id=1Vy0OPYInhYxuZzSn415DsguHWVH7ROe0 [following]\n",
            "--2024-10-03 12:56:00--  https://drive.usercontent.google.com/download?id=1Vy0OPYInhYxuZzSn415DsguHWVH7ROe0\n",
            "Resolving drive.usercontent.google.com (drive.usercontent.google.com)... 2404:6800:4007:824::2001, 142.250.192.33\n",
            "Connecting to drive.usercontent.google.com (drive.usercontent.google.com)|2404:6800:4007:824::2001|:443... connected.\n",
            "HTTP request sent, awaiting response... 200 OK\n",
            "Length: 1541 (1.5K) [application/octet-stream]\n",
            "Saving to: ‘two_way_anova.csv’\n",
            "\n",
            "two_way_anova.csv   100%[===================>]   1.50K  --.-KB/s    in 0s      \n",
            "\n",
            "2024-10-03 12:56:04 (145 MB/s) - ‘two_way_anova.csv’ saved [1541/1541]\n",
            "\n"
          ]
        }
      ],
      "source": [
        "!wget --no-check-certificate https://drive.google.com/uc?id=1Vy0OPYInhYxuZzSn415DsguHWVH7ROe0 -O two_way_anova.csv"
      ]
    },
    {
      "cell_type": "code",
      "execution_count": null,
      "metadata": {
        "id": "rVmVcgePSpE5"
      },
      "outputs": [],
      "source": []
    },
    {
      "cell_type": "code",
      "execution_count": 19,
      "metadata": {
        "colab": {
          "base_uri": "https://localhost:8080/",
          "height": 423
        },
        "id": "s2FsmkAQSbD0",
        "outputId": "a847ac7f-ce70-4aa4-de33-4df42ffbdb18"
      },
      "outputs": [
        {
          "data": {
            "text/html": [
              "<div>\n",
              "<style scoped>\n",
              "    .dataframe tbody tr th:only-of-type {\n",
              "        vertical-align: middle;\n",
              "    }\n",
              "\n",
              "    .dataframe tbody tr th {\n",
              "        vertical-align: top;\n",
              "    }\n",
              "\n",
              "    .dataframe thead th {\n",
              "        text-align: right;\n",
              "    }\n",
              "</style>\n",
              "<table border=\"1\" class=\"dataframe\">\n",
              "  <thead>\n",
              "    <tr style=\"text-align: right;\">\n",
              "      <th></th>\n",
              "      <th>Flavour</th>\n",
              "      <th>Location</th>\n",
              "      <th>Sales</th>\n",
              "    </tr>\n",
              "  </thead>\n",
              "  <tbody>\n",
              "    <tr>\n",
              "      <th>0</th>\n",
              "      <td>Orange</td>\n",
              "      <td>West</td>\n",
              "      <td>141</td>\n",
              "    </tr>\n",
              "    <tr>\n",
              "      <th>1</th>\n",
              "      <td>Lemon</td>\n",
              "      <td>West</td>\n",
              "      <td>178</td>\n",
              "    </tr>\n",
              "    <tr>\n",
              "      <th>2</th>\n",
              "      <td>Orange</td>\n",
              "      <td>West</td>\n",
              "      <td>170</td>\n",
              "    </tr>\n",
              "    <tr>\n",
              "      <th>3</th>\n",
              "      <td>Orange</td>\n",
              "      <td>East</td>\n",
              "      <td>76</td>\n",
              "    </tr>\n",
              "    <tr>\n",
              "      <th>4</th>\n",
              "      <td>Lemon</td>\n",
              "      <td>East</td>\n",
              "      <td>170</td>\n",
              "    </tr>\n",
              "    <tr>\n",
              "      <th>...</th>\n",
              "      <td>...</td>\n",
              "      <td>...</td>\n",
              "      <td>...</td>\n",
              "    </tr>\n",
              "    <tr>\n",
              "      <th>95</th>\n",
              "      <td>Lemon</td>\n",
              "      <td>South</td>\n",
              "      <td>131</td>\n",
              "    </tr>\n",
              "    <tr>\n",
              "      <th>96</th>\n",
              "      <td>Lemon</td>\n",
              "      <td>East</td>\n",
              "      <td>103</td>\n",
              "    </tr>\n",
              "    <tr>\n",
              "      <th>97</th>\n",
              "      <td>Orange</td>\n",
              "      <td>West</td>\n",
              "      <td>117</td>\n",
              "    </tr>\n",
              "    <tr>\n",
              "      <th>98</th>\n",
              "      <td>Lemon</td>\n",
              "      <td>South</td>\n",
              "      <td>82</td>\n",
              "    </tr>\n",
              "    <tr>\n",
              "      <th>99</th>\n",
              "      <td>Lemon</td>\n",
              "      <td>East</td>\n",
              "      <td>191</td>\n",
              "    </tr>\n",
              "  </tbody>\n",
              "</table>\n",
              "<p>100 rows × 3 columns</p>\n",
              "</div>"
            ],
            "text/plain": [
              "   Flavour Location  Sales\n",
              "0   Orange     West    141\n",
              "1    Lemon     West    178\n",
              "2   Orange     West    170\n",
              "3   Orange     East     76\n",
              "4    Lemon     East    170\n",
              "..     ...      ...    ...\n",
              "95   Lemon    South    131\n",
              "96   Lemon     East    103\n",
              "97  Orange     West    117\n",
              "98   Lemon    South     82\n",
              "99   Lemon     East    191\n",
              "\n",
              "[100 rows x 3 columns]"
            ]
          },
          "execution_count": 19,
          "metadata": {},
          "output_type": "execute_result"
        }
      ],
      "source": [
        "df = pd.read_csv('two_way_anova.csv')\n",
        "df\n"
      ]
    },
    {
      "cell_type": "code",
      "execution_count": 20,
      "metadata": {
        "colab": {
          "base_uri": "https://localhost:8080/"
        },
        "id": "-_qBb7l6SptJ",
        "outputId": "27de947a-5432-42e6-9df5-866e94bd2b42"
      },
      "outputs": [
        {
          "data": {
            "text/plain": [
              "array(['Orange', 'Lemon', 'Cola'], dtype=object)"
            ]
          },
          "execution_count": 20,
          "metadata": {},
          "output_type": "execute_result"
        }
      ],
      "source": [
        "df['Flavour'].unique()"
      ]
    },
    {
      "cell_type": "code",
      "execution_count": 21,
      "metadata": {
        "colab": {
          "base_uri": "https://localhost:8080/"
        },
        "id": "8AYunpQwSvrC",
        "outputId": "929645f8-7b58-4994-8218-db7767856c53"
      },
      "outputs": [
        {
          "data": {
            "text/plain": [
              "array(['West', 'East', 'North', 'South'], dtype=object)"
            ]
          },
          "execution_count": 21,
          "metadata": {},
          "output_type": "execute_result"
        }
      ],
      "source": [
        "df['Location'].unique()"
      ]
    },
    {
      "cell_type": "code",
      "execution_count": 22,
      "metadata": {
        "colab": {
          "base_uri": "https://localhost:8080/",
          "height": 175
        },
        "id": "OjvrkfB-S6wI",
        "outputId": "517fa2bf-83d6-4aba-e564-b32d8c86d2f7"
      },
      "outputs": [
        {
          "data": {
            "text/html": [
              "<div>\n",
              "<style scoped>\n",
              "    .dataframe tbody tr th:only-of-type {\n",
              "        vertical-align: middle;\n",
              "    }\n",
              "\n",
              "    .dataframe tbody tr th {\n",
              "        vertical-align: top;\n",
              "    }\n",
              "\n",
              "    .dataframe thead th {\n",
              "        text-align: right;\n",
              "    }\n",
              "</style>\n",
              "<table border=\"1\" class=\"dataframe\">\n",
              "  <thead>\n",
              "    <tr style=\"text-align: right;\">\n",
              "      <th></th>\n",
              "      <th>sum_sq</th>\n",
              "      <th>df</th>\n",
              "      <th>F</th>\n",
              "      <th>PR(&gt;F)</th>\n",
              "    </tr>\n",
              "  </thead>\n",
              "  <tbody>\n",
              "    <tr>\n",
              "      <th>C(Flavour)</th>\n",
              "      <td>6919.558981</td>\n",
              "      <td>2.0</td>\n",
              "      <td>1.968465</td>\n",
              "      <td>0.145773</td>\n",
              "    </tr>\n",
              "    <tr>\n",
              "      <th>C(Location)</th>\n",
              "      <td>2059.273884</td>\n",
              "      <td>3.0</td>\n",
              "      <td>0.390546</td>\n",
              "      <td>0.760092</td>\n",
              "    </tr>\n",
              "    <tr>\n",
              "      <th>C(Flavour):C(Location)</th>\n",
              "      <td>11802.257765</td>\n",
              "      <td>6.0</td>\n",
              "      <td>1.119163</td>\n",
              "      <td>0.357804</td>\n",
              "    </tr>\n",
              "    <tr>\n",
              "      <th>Residual</th>\n",
              "      <td>154669.016331</td>\n",
              "      <td>88.0</td>\n",
              "      <td>NaN</td>\n",
              "      <td>NaN</td>\n",
              "    </tr>\n",
              "  </tbody>\n",
              "</table>\n",
              "</div>"
            ],
            "text/plain": [
              "                               sum_sq    df         F    PR(>F)\n",
              "C(Flavour)                6919.558981   2.0  1.968465  0.145773\n",
              "C(Location)               2059.273884   3.0  0.390546  0.760092\n",
              "C(Flavour):C(Location)   11802.257765   6.0  1.119163  0.357804\n",
              "Residual                154669.016331  88.0       NaN       NaN"
            ]
          },
          "execution_count": 22,
          "metadata": {},
          "output_type": "execute_result"
        }
      ],
      "source": [
        "test = ols('Sales~C(Flavour)*C(Location)', data=df).fit()\n",
        "annova_table = sm.stats.anova_lm(test, typ=2)\n",
        "annova_table"
      ]
    },
    {
      "cell_type": "code",
      "execution_count": null,
      "metadata": {
        "id": "6kSylUltU_0P"
      },
      "outputs": [],
      "source": []
    },
    {
      "cell_type": "markdown",
      "metadata": {
        "id": "j8R9o-Y2VBej"
      },
      "source": [
        "In a Two-way ANOVA, if the p-value for the interaction effect is significant, what can you conclude?\n"
      ]
    },
    {
      "cell_type": "markdown",
      "metadata": {
        "id": "z4op1uCeVcw1"
      },
      "source": [
        "What is the primary difference between One-way ANOVA and Two-way ANOVA?"
      ]
    },
    {
      "cell_type": "markdown",
      "metadata": {
        "id": "P2eyOKN3cWwD"
      },
      "source": [
        "## KS test"
      ]
    },
    {
      "cell_type": "code",
      "execution_count": 23,
      "metadata": {
        "id": "83IcT2pVcU0q"
      },
      "outputs": [],
      "source": [
        "# Step - 1\n",
        "\n",
        "#H0: The distrbutions of x and y are same\n",
        "\n",
        "# Ha: The distributions of x and y are different"
      ]
    },
    {
      "cell_type": "code",
      "execution_count": 24,
      "metadata": {
        "id": "sORU3F9Jcj2r"
      },
      "outputs": [],
      "source": [
        "r1 = [8.82420842, 7.47774471, 7.55712098, 7.98131439, 6.82771606,\n",
        "       7.48566433, 9.15385732, 5.84040502, 8.26124313, 8.4728876 ,\n",
        "       6.82582186, 7.00490974, 8.43423058, 6.72099932, 6.97495982,\n",
        "       5.93748053, 5.40707847, 6.16385557, 6.71421056, 4.42396183,\n",
        "       6.87285228, 8.00313581, 6.69035041, 7.83622942, 8.70984957,\n",
        "       5.56284584, 9.08093437, 4.98165193, 7.67769408, 6.04738478,\n",
        "       7.64921582, 7.31051639, 6.74463303, 7.27356973, 8.16787232,\n",
        "       6.90990965, 7.06439167, 6.62921957, 6.08283539, 6.2458137 ,\n",
        "       8.65173634, 5.76080646, 6.20573219, 8.91561004, 6.22560201,\n",
        "       5.67542104, 6.97412435, 8.31354697, 8.14172701, 8.26099345,\n",
        "       7.87612791, 6.24835109, 9.95324783, 6.59504627, 6.17365145,\n",
        "       6.05676895, 7.23030223, 7.71311809, 7.37163804, 5.69798738,\n",
        "       5.71056902, 7.94556876, 7.47234105, 6.85346234, 4.77892053,\n",
        "       6.92631063, 6.10681151, 7.06277198, 7.18023164, 7.78285327,\n",
        "       7.85500885, 6.54349161, 8.25949958, 6.44289198, 7.16705977,\n",
        "       6.03517015, 7.61274786, 7.032845  , 6.78161745, 7.07917968,\n",
        "       6.21549342, 5.34267439, 6.73039933, 7.70562561, 8.15117049,\n",
        "       6.72564324, 6.68220904, 8.50359274, 7.52912703, 7.34572493,\n",
        "       5.95734283, 6.58259396, 6.49394335, 8.68069592, 8.60547125,\n",
        "       6.8905056 , 7.72575925, 6.84801609, 7.96999724, 7.10420915]"
      ]
    },
    {
      "cell_type": "code",
      "execution_count": 25,
      "metadata": {
        "id": "wwBpRfgMcoED"
      },
      "outputs": [],
      "source": [
        "r2 = [ 9.56597358,  7.49291458,  8.73841824,  7.63523452,  4.12559277,\n",
        "        7.3679259 ,  9.87873565,  6.14516559,  8.19923821,  7.30169992,\n",
        "       10.24606417,  6.83814477,  7.01611267,  6.15716049,  8.29590714,\n",
        "       12.3333305 ,  8.22144016,  6.06830071,  3.75820649,  6.69220157,\n",
        "       10.08721618,  9.70580422,  7.31050006, 11.40145721,  5.64818498,\n",
        "        7.38914449,  8.43740074,  6.3451435 ,  7.05694361,  8.1997151 ,\n",
        "        9.03059061,  7.76904679,  6.92375578,  5.78318543,  8.99027781,\n",
        "        7.56186529,  5.27095372,  8.32896688, 11.52935757,  7.08119961,\n",
        "        9.48825066,  9.14072759,  7.30357663,  8.62183754, 10.40999814,\n",
        "        8.70096763,  7.04645384,  6.378799  , 10.5098363 ,  7.36078888,\n",
        "        7.33403615,  8.07396248,  6.18309499,  7.24668404,  9.03430611,\n",
        "        8.99016584,  6.78606416,  8.436418  ,  6.85877947, 10.10405772,\n",
        "        6.74943076,  7.57812376,  7.12920671,  9.38065269,  9.57139966,\n",
        "        6.4484012 ,  6.93877043,  9.22141667,  8.34815638,  7.73980671,\n",
        "        7.17840767,  9.27913457,  6.49963224,  9.92287292,  7.63978639,\n",
        "        9.53931977,  9.02602273,  6.79374185,  8.59715131,  8.37747338,\n",
        "        8.78161815,  6.78716383,  8.28473394,  8.20283798, 12.50518811,\n",
        "       10.19772574,  8.93758457,  8.9540311 ,  8.28927558,  6.28935098,\n",
        "        7.69447559,  9.66777701, 10.33898342,  8.71199578,  5.12781581,\n",
        "        9.70954569,  9.13685031,  7.28989718,  8.0868909 ,  7.42937556,\n",
        "        7.31356749,  9.92345816,  8.60211814,  9.33228465,  8.14132658,\n",
        "        6.17871495, 10.28358242,  7.31898597,  7.95085527,  6.20331719,\n",
        "        9.19119762,  6.98600628,  7.05314883, 10.57921482,  6.83637574,\n",
        "        7.86199283,  8.23350975,  5.87625665,  7.78945364,  8.83612492]"
      ]
    },
    {
      "cell_type": "code",
      "execution_count": 26,
      "metadata": {
        "colab": {
          "base_uri": "https://localhost:8080/"
        },
        "id": "ukL4CjtvcrXE",
        "outputId": "6a5ad630-1a53-437e-c772-8b7ec32ecdc4"
      },
      "outputs": [
        {
          "data": {
            "text/plain": [
              "(100, 120)"
            ]
          },
          "execution_count": 26,
          "metadata": {},
          "output_type": "execute_result"
        }
      ],
      "source": [
        "d1 = np.array(r1)\n",
        "d2 = np.array(r2)\n",
        "n1 = len(d1)\n",
        "n2 = len(d2)\n",
        "n1, n2"
      ]
    },
    {
      "cell_type": "code",
      "execution_count": 27,
      "metadata": {
        "colab": {
          "base_uri": "https://localhost:8080/"
        },
        "id": "GNm5P3rGc0Ko",
        "outputId": "c6cd1a85-46a0-4552-eb41-27bfd2b15799"
      },
      "outputs": [
        {
          "data": {
            "text/plain": [
              "(0.3233333333333333, 1.516338798228849e-05)"
            ]
          },
          "execution_count": 27,
          "metadata": {},
          "output_type": "execute_result"
        }
      ],
      "source": [
        "ks_stat, p_val = kstest(d1, d2)\n",
        "ks_stat, p_val"
      ]
    },
    {
      "cell_type": "code",
      "execution_count": 28,
      "metadata": {
        "colab": {
          "base_uri": "https://localhost:8080/"
        },
        "id": "tXUruvoPc-xB",
        "outputId": "7690dbe7-e6c9-4570-85cf-80ededfa381a"
      },
      "outputs": [
        {
          "name": "stdout",
          "output_type": "stream",
          "text": [
            "Reject the H0\n"
          ]
        }
      ],
      "source": [
        "alpha = 0.01\n",
        "if p_val < alpha:\n",
        "  print('Reject the H0')\n",
        "else:\n",
        "  print('Fail to reject the H0')"
      ]
    },
    {
      "cell_type": "code",
      "execution_count": 29,
      "metadata": {
        "colab": {
          "base_uri": "https://localhost:8080/",
          "height": 430
        },
        "id": "nahSagt8d3io",
        "outputId": "9aa595f2-fc55-4db3-e01f-0effd2a259cf"
      },
      "outputs": [
        {
          "data": {
            "image/png": "[encoded data removed]",
            "text/plain": [
              "<Figure size 640x480 with 1 Axes>"
            ]
          },
          "metadata": {},
          "output_type": "display_data"
        }
      ],
      "source": [
        "plt.grid()\n",
        "a = plt.hist(d1, bins=100, cumulative=True, label='CDF', density=True, histtype='step')\n",
        "b = plt.hist(d2, bins=100, cumulative=True, label='CDF', density=True, histtype='step')\n",
        "plt.show()"
      ]
    },
    {
      "cell_type": "code",
      "execution_count": 30,
      "metadata": {
        "id": "0fdg728Kd6YL"
      },
      "outputs": [],
      "source": [
        "data1 = [ 4.96714153,  1.38264301,  6.47688538, 15.23029856,  2.34153375,\n",
        "        2.34136957, 15.79212816,  7.67434729,  4.69474386,  5.42560044,\n",
        "        4.63417693,  4.65729754,  2.41962272, 19.13280245, 17.24917833,\n",
        "        5.62287529, 10.1283112 ,  3.14247333,  9.08024076, 14.12303701,\n",
        "       14.65648769,  2.257763  ,  0.67528205, 14.24748186,  5.44382725,\n",
        "        1.1092259 , 11.50993577,  3.75698018,  6.0063869 ,  2.9169375 ,\n",
        "        6.01706612, 18.52278185,  0.13497225, 10.57710929,  8.22544912,\n",
        "       12.2084365 ,  2.08863595, 19.59670124, 13.28186049,  1.96861236,\n",
        "        7.3846658 ,  1.71368281,  1.15648282,  3.01103696, 14.7852199 ,\n",
        "        7.19844208,  4.60638771, 10.57122226,  3.4361829 , 17.63040155,\n",
        "        3.24083969,  3.8508228 ,  6.76922   ,  6.11676289, 10.30999522,\n",
        "        9.31280119,  8.39217523,  3.09212376,  3.31263431,  9.75545127,\n",
        "        4.79174238,  1.85658977, 11.06334974, 11.96206624,  8.12525822,\n",
        "       13.56240029,  0.72010122, 10.03532898,  3.61636025,  6.45119755,\n",
        "        3.61395606, 15.38036566,  0.35826039, 15.64643656, 26.19745104,\n",
        "        8.21902504,  0.87047068,  2.9900735 ,  0.91760777, 19.87568915,\n",
        "        2.19671888,  3.57112572, 14.77894045,  5.18270218,  8.08493603,\n",
        "        5.01757044,  9.15402118,  3.2875111 ,  5.29760204,  5.13267433,\n",
        "        0.97077549,  9.68644991,  7.02053094,  3.27662147,  3.92108153,\n",
        "       14.63514948,  2.96120277,  2.61055272,  0.05113457,  2.34587133]"
      ]
    },
    {
      "cell_type": "code",
      "execution_count": 31,
      "metadata": {
        "id": "jcjgeZFfeQIK"
      },
      "outputs": [],
      "source": [
        "data2 = [14.15370742,  4.20645323,  3.42714517,  8.02277269,  1.61285712,\n",
        "        4.04050857, 18.86185901,  1.74577813,  2.57550391,  0.74445916,\n",
        "       19.18771215,  0.26513875,  0.6023021 , 24.63242112,  1.92360965,\n",
        "        3.01547342,  0.3471177 , 11.68678038, 11.42822815,  7.51933033,\n",
        "        7.91031947,  9.09387455, 14.02794311, 14.01851063,  5.86857094,\n",
        "       21.90455626,  9.90536325,  5.6629773 ,  0.99651365,  5.03475654,\n",
        "       15.50663431,  0.68562975, 10.62303714,  4.73592431,  9.19424234,\n",
        "       15.49934405,  7.83253292,  3.22061516,  8.13517217, 12.30864316,\n",
        "        2.27459935, 13.07142754, 16.07483235,  1.84633859,  2.59882794,\n",
        "        7.81822872, 12.36950711, 13.20456613,  5.21941566,  2.96984673,\n",
        "        2.5049285 ,  3.46448209,  6.80024722,  2.32253697,  2.93072473,\n",
        "        7.14351418, 18.65774511,  4.73832921, 11.91303497,  6.56553609,\n",
        "        9.7468167 ,  7.87084604, 11.58595579,  8.20682318,  9.63376129,\n",
        "        4.12780927,  8.2206016 , 18.96792983,  2.45388116,  7.53736164,\n",
        "        8.8951443 ,  8.15810285,  0.77101709,  3.41151975,  2.76690799,\n",
        "        8.27183249,  0.13001892, 14.53534077,  2.64656833, 27.20169167,\n",
        "        6.25667348,  8.57157556, 10.70892498,  4.82472415,  2.23462785,\n",
        "        7.14000494,  4.73237625,  0.72828913,  8.46793718, 15.14847225,\n",
        "        4.46514952,  8.56398794,  2.14093744, 12.45738779,  1.73180926,\n",
        "        3.8531738 ,  8.83857436,  1.53725106,  0.58208718, 11.42970298,\n",
        "        3.5778736 ,  5.60784526, 10.83051243, 10.53802052, 13.77669368,\n",
        "        9.3782504 ,  5.15035267,  5.13785951,  5.15047686, 38.52731491,\n",
        "        5.70890511, 11.3556564 ,  9.54001763,  6.51391251,  3.15269245,\n",
        "        7.5896922 ,  7.72825215,  2.36818607,  4.85363548,  0.81874139]"
      ]
    },
    {
      "cell_type": "code",
      "execution_count": 32,
      "metadata": {
        "colab": {
          "base_uri": "https://localhost:8080/"
        },
        "id": "XEzBW-hjeRvv",
        "outputId": "0709341f-cde2-4d1e-e5be-948625ff869e"
      },
      "outputs": [
        {
          "data": {
            "text/plain": [
              "(100, 120)"
            ]
          },
          "execution_count": 32,
          "metadata": {},
          "output_type": "execute_result"
        }
      ],
      "source": [
        "d1 = np.array(data1)\n",
        "d2 = np.array(data2)\n",
        "n1 = len(d1)\n",
        "n2 = len(d2)\n",
        "n1, n2"
      ]
    },
    {
      "cell_type": "code",
      "execution_count": 33,
      "metadata": {
        "colab": {
          "base_uri": "https://localhost:8080/"
        },
        "id": "x_OTGg5jedMa",
        "outputId": "e7c51291-66a4-49f4-c8b5-daa2fdea5f74"
      },
      "outputs": [
        {
          "data": {
            "text/plain": [
              "(0.095, 0.671374753605883)"
            ]
          },
          "execution_count": 33,
          "metadata": {},
          "output_type": "execute_result"
        }
      ],
      "source": [
        "ks_stat, p_val = kstest(d1, d2)\n",
        "ks_stat, p_val"
      ]
    },
    {
      "cell_type": "code",
      "execution_count": 34,
      "metadata": {
        "colab": {
          "base_uri": "https://localhost:8080/",
          "height": 430
        },
        "id": "jcSyntZsedg_",
        "outputId": "69e51fc8-b65e-4505-ded3-8d9b695668c0"
      },
      "outputs": [
        {
          "data": {
            "image/png": "[encoded data removed]",
            "text/plain": [
              "<Figure size 640x480 with 1 Axes>"
            ]
          },
          "metadata": {},
          "output_type": "display_data"
        }
      ],
      "source": [
        "plt.grid()\n",
        "a = plt.hist(d1, bins=100, cumulative=True, label='CDF', density=True, histtype='step')\n",
        "b = plt.hist(d2, bins=100, cumulative=True, label='CDF', density=True, histtype='step')\n",
        "plt.show()"
      ]
    },
    {
      "cell_type": "markdown",
      "metadata": {
        "id": "p9K1Ev1thg95"
      },
      "source": []
    },
    {
      "cell_type": "markdown",
      "metadata": {
        "id": "1GxuPwY5e1U4"
      },
      "source": [
        "In a two-sample KS Test, if the p-value is very small (e.g., less than the significance level), what does it indicate?"
      ]
    },
    {
      "cell_type": "markdown",
      "metadata": {
        "id": "FRkfyFiyhhjC"
      },
      "source": [
        "## A/B Testing"
      ]
    },
    {
      "cell_type": "code",
      "execution_count": 35,
      "metadata": {
        "colab": {
          "base_uri": "https://localhost:8080/"
        },
        "id": "ADL8iYvNhkKL",
        "outputId": "5137aa25-221c-441b-d7ab-a251228a6668"
      },
      "outputs": [
        {
          "name": "stdout",
          "output_type": "stream",
          "text": [
            "--2024-10-03 12:56:04--  https://drive.google.com/uc?id=1CS513bBqabMfrUhVcqm_nhlgrQheMNZ1\n",
            "Resolving drive.google.com (drive.google.com)... 2404:6800:4007:809::200e, 142.250.70.78\n",
            "Connecting to drive.google.com (drive.google.com)|2404:6800:4007:809::200e|:443... connected.\n",
            "HTTP request sent, awaiting response... 303 See Other\n",
            "Location: https://drive.usercontent.google.com/download?id=1CS513bBqabMfrUhVcqm_nhlgrQheMNZ1 [following]\n",
            "--2024-10-03 12:56:05--  https://drive.usercontent.google.com/download?id=1CS513bBqabMfrUhVcqm_nhlgrQheMNZ1\n",
            "Resolving drive.usercontent.google.com (drive.usercontent.google.com)... 2404:6800:4007:824::2001, 142.250.192.33\n",
            "Connecting to drive.usercontent.google.com (drive.usercontent.google.com)|2404:6800:4007:824::2001|:443... connected.\n",
            "HTTP request sent, awaiting response... 200 OK\n",
            "Length: 883665 (863K) [application/octet-stream]\n",
            "Saving to: ‘ab_test_data.csv’\n",
            "\n",
            "ab_test_data.csv    100%[===================>] 862.95K  2.24MB/s    in 0.4s    \n",
            "\n",
            "2024-10-03 12:56:08 (2.24 MB/s) - ‘ab_test_data.csv’ saved [883665/883665]\n",
            "\n"
          ]
        }
      ],
      "source": [
        "!wget --no-check-certificate https://drive.google.com/uc?id=1CS513bBqabMfrUhVcqm_nhlgrQheMNZ1 -O ab_test_data.csv\n"
      ]
    },
    {
      "cell_type": "code",
      "execution_count": 36,
      "metadata": {
        "colab": {
          "base_uri": "https://localhost:8080/",
          "height": 423
        },
        "id": "GnL1RlUqhl9J",
        "outputId": "d096fa1b-c303-403d-8887-1451f3243041"
      },
      "outputs": [
        {
          "data": {
            "text/html": [
              "<div>\n",
              "<style scoped>\n",
              "    .dataframe tbody tr th:only-of-type {\n",
              "        vertical-align: middle;\n",
              "    }\n",
              "\n",
              "    .dataframe tbody tr th {\n",
              "        vertical-align: top;\n",
              "    }\n",
              "\n",
              "    .dataframe thead th {\n",
              "        text-align: right;\n",
              "    }\n",
              "</style>\n",
              "<table border=\"1\" class=\"dataframe\">\n",
              "  <thead>\n",
              "    <tr style=\"text-align: right;\">\n",
              "      <th></th>\n",
              "      <th>date</th>\n",
              "      <th>customer_id</th>\n",
              "      <th>premium</th>\n",
              "      <th>watch_time_hrs</th>\n",
              "      <th>customer_segmnt</th>\n",
              "    </tr>\n",
              "  </thead>\n",
              "  <tbody>\n",
              "    <tr>\n",
              "      <th>0</th>\n",
              "      <td>2018-09-11</td>\n",
              "      <td>402</td>\n",
              "      <td>0</td>\n",
              "      <td>7.173618</td>\n",
              "      <td>control</td>\n",
              "    </tr>\n",
              "    <tr>\n",
              "      <th>1</th>\n",
              "      <td>2018-02-28</td>\n",
              "      <td>227</td>\n",
              "      <td>0</td>\n",
              "      <td>0.836170</td>\n",
              "      <td>control</td>\n",
              "    </tr>\n",
              "    <tr>\n",
              "      <th>2</th>\n",
              "      <td>2018-10-18</td>\n",
              "      <td>812</td>\n",
              "      <td>1</td>\n",
              "      <td>4.402078</td>\n",
              "      <td>treatment</td>\n",
              "    </tr>\n",
              "    <tr>\n",
              "      <th>3</th>\n",
              "      <td>2018-05-22</td>\n",
              "      <td>43</td>\n",
              "      <td>0</td>\n",
              "      <td>3.982454</td>\n",
              "      <td>control</td>\n",
              "    </tr>\n",
              "    <tr>\n",
              "      <th>4</th>\n",
              "      <td>2018-07-18</td>\n",
              "      <td>307</td>\n",
              "      <td>0</td>\n",
              "      <td>7.513302</td>\n",
              "      <td>control</td>\n",
              "    </tr>\n",
              "    <tr>\n",
              "      <th>...</th>\n",
              "      <td>...</td>\n",
              "      <td>...</td>\n",
              "      <td>...</td>\n",
              "      <td>...</td>\n",
              "      <td>...</td>\n",
              "    </tr>\n",
              "    <tr>\n",
              "      <th>19955</th>\n",
              "      <td>2018-10-09</td>\n",
              "      <td>794</td>\n",
              "      <td>0</td>\n",
              "      <td>6.157144</td>\n",
              "      <td>treatment</td>\n",
              "    </tr>\n",
              "    <tr>\n",
              "      <th>19956</th>\n",
              "      <td>2018-05-21</td>\n",
              "      <td>479</td>\n",
              "      <td>0</td>\n",
              "      <td>4.319866</td>\n",
              "      <td>control</td>\n",
              "    </tr>\n",
              "    <tr>\n",
              "      <th>19957</th>\n",
              "      <td>2018-07-20</td>\n",
              "      <td>547</td>\n",
              "      <td>0</td>\n",
              "      <td>2.124289</td>\n",
              "      <td>treatment</td>\n",
              "    </tr>\n",
              "    <tr>\n",
              "      <th>19958</th>\n",
              "      <td>2018-10-23</td>\n",
              "      <td>431</td>\n",
              "      <td>0</td>\n",
              "      <td>0.452113</td>\n",
              "      <td>control</td>\n",
              "    </tr>\n",
              "    <tr>\n",
              "      <th>19959</th>\n",
              "      <td>2018-07-13</td>\n",
              "      <td>538</td>\n",
              "      <td>0</td>\n",
              "      <td>0.434558</td>\n",
              "      <td>treatment</td>\n",
              "    </tr>\n",
              "  </tbody>\n",
              "</table>\n",
              "<p>19960 rows × 5 columns</p>\n",
              "</div>"
            ],
            "text/plain": [
              "             date  customer_id  premium  watch_time_hrs customer_segmnt\n",
              "0      2018-09-11          402        0        7.173618         control\n",
              "1      2018-02-28          227        0        0.836170         control\n",
              "2      2018-10-18          812        1        4.402078       treatment\n",
              "3      2018-05-22           43        0        3.982454         control\n",
              "4      2018-07-18          307        0        7.513302         control\n",
              "...           ...          ...      ...             ...             ...\n",
              "19955  2018-10-09          794        0        6.157144       treatment\n",
              "19956  2018-05-21          479        0        4.319866         control\n",
              "19957  2018-07-20          547        0        2.124289       treatment\n",
              "19958  2018-10-23          431        0        0.452113         control\n",
              "19959  2018-07-13          538        0        0.434558       treatment\n",
              "\n",
              "[19960 rows x 5 columns]"
            ]
          },
          "execution_count": 36,
          "metadata": {},
          "output_type": "execute_result"
        }
      ],
      "source": [
        "ab_test_data = pd.read_csv('ab_test_data.csv')\n",
        "ab_test_data"
      ]
    },
    {
      "cell_type": "code",
      "execution_count": 37,
      "metadata": {
        "colab": {
          "base_uri": "https://localhost:8080/"
        },
        "id": "tr3UXkBohwCJ",
        "outputId": "f24a4d59-eea1-4c10-a631-fdf3cdf7b45f"
      },
      "outputs": [
        {
          "data": {
            "text/plain": [
              "customer_segmnt\n",
              "treatment    9987\n",
              "control      9973\n",
              "Name: count, dtype: int64"
            ]
          },
          "execution_count": 37,
          "metadata": {},
          "output_type": "execute_result"
        }
      ],
      "source": [
        "ab_test_data['customer_segmnt'].value_counts()"
      ]
    },
    {
      "cell_type": "code",
      "execution_count": 38,
      "metadata": {
        "colab": {
          "base_uri": "https://localhost:8080/",
          "height": 471
        },
        "id": "6JPQoUwiemUG",
        "outputId": "7d432c72-c6a1-4b1d-d620-f69f10e5ea7c"
      },
      "outputs": [
        {
          "data": {
            "text/plain": [
              "<AxesSubplot: xlabel='watch_time_hrs', ylabel='Count'>"
            ]
          },
          "execution_count": 38,
          "metadata": {},
          "output_type": "execute_result"
        },
        {
          "data": {
            "image/png": "[encoded data removed]",
            "text/plain": [
              "<Figure size 640x480 with 1 Axes>"
            ]
          },
          "metadata": {},
          "output_type": "display_data"
        }
      ],
      "source": [
        "sns.histplot(ab_test_data['watch_time_hrs'], bins=100)"
      ]
    },
    {
      "cell_type": "code",
      "execution_count": 39,
      "metadata": {
        "colab": {
          "base_uri": "https://localhost:8080/"
        },
        "id": "oqQ-9J1Fijun",
        "outputId": "00a59198-ee41-4df9-a4c6-dea7583348fd"
      },
      "outputs": [
        {
          "data": {
            "text/plain": [
              "customer_segmnt\n",
              "control      3.609960\n",
              "treatment    3.054294\n",
              "Name: watch_time_hrs, dtype: float64"
            ]
          },
          "execution_count": 39,
          "metadata": {},
          "output_type": "execute_result"
        }
      ],
      "source": [
        "ab_test_data.groupby('customer_segmnt')['watch_time_hrs'].mean()"
      ]
    },
    {
      "cell_type": "code",
      "execution_count": 40,
      "metadata": {
        "id": "5mRkK6JljtZO"
      },
      "outputs": [],
      "source": [
        "from scipy.stats import ttest_ind"
      ]
    },
    {
      "cell_type": "code",
      "execution_count": 41,
      "metadata": {
        "id": "E-0Oi5c9j1ir"
      },
      "outputs": [],
      "source": [
        "ab_test_control_data = ab_test_data[ab_test_data['customer_segmnt'] == 'control']\n",
        "ab_test_treatment_data = ab_test_data[ab_test_data['customer_segmnt'] == 'treatment']"
      ]
    },
    {
      "cell_type": "code",
      "execution_count": 42,
      "metadata": {
        "colab": {
          "base_uri": "https://localhost:8080/"
        },
        "id": "cksFsGFpjvus",
        "outputId": "1d74c348-630f-4494-a860-a0a6efeedf3f"
      },
      "outputs": [
        {
          "data": {
            "text/plain": [
              "5.438408586231319e-57"
            ]
          },
          "execution_count": 42,
          "metadata": {},
          "output_type": "execute_result"
        }
      ],
      "source": [
        "t_stat, p_val = ttest_ind(ab_test_control_data['watch_time_hrs'], ab_test_treatment_data['watch_time_hrs'])\n",
        "p_val"
      ]
    },
    {
      "cell_type": "markdown",
      "metadata": {
        "id": "7OyDAr42krjh"
      },
      "source": [
        "What is the primary objective of A/B testing in the field of digital marketing and website optimization?"
      ]
    },
    {
      "cell_type": "markdown",
      "metadata": {
        "id": "vZmiRN5WmRot"
      },
      "source": [
        "## Problem Statement\n",
        "\n",
        "The Committee head of a national entrance exam wants to analyze if there are any differences in learning outcomes between students with different educational backgrounds (high school or college) and teaching methods (traditional or interactive) on test scores.\n",
        "\n",
        "\n",
        "Data set: https://d2beiqkhq929f0.cloudfront.net/public_assets/assets/000/059/218/original/Teaching_Method.csv?1702373208\n",
        "\n",
        "Options\n",
        "\n",
        "* The teaching method significantly impacts student test scores, whereas educational background does not.\n",
        "\n",
        "* The educational background significantly impacts student test scores, whereas the teaching method does not.\n",
        "    \n",
        "* There is significant interaction between educational background and teaching method on student performance.\n",
        "    \n",
        "* There is no significant interaction between educational background and teaching method on student performance."
      ]
    },
    {
      "cell_type": "markdown",
      "metadata": {},
      "source": [
        "## Assignment problems:"
      ]
    },
    {
      "attachments": {
        "image.png": {
          "image/png": "[encoded data removed]"
        }
      },
      "cell_type": "markdown",
      "metadata": {
        "id": "rh8MEgqrmcfa"
      },
      "source": [
        "### Dosage and Gender\n",
        "A researcher is interested in determining the effects of different dosages of a dietary supplement on the performance of both males and females on a physical endurance test.\n",
        "\n",
        "The three different dosages of the medicine are low, medium, and high, and the genders are male and female.\n",
        "\n",
        "Data: Dataset\n",
        "\n",
        "Sample data:\n",
        "\n",
        "![image.png](attachment:image.png)\n",
        "\n",
        "Conduct an appropriate hypothesis test to determine the interaction effects of the test at a 1% significance level."
      ]
    },
    {
      "cell_type": "markdown",
      "metadata": {},
      "source": [
        "Null Hypothesis (H0):\n",
        "\n",
        "1. There is no significant difference in average performance scores among different dietary supplement dosages.\n",
        "2. There is no significant difference in average performance scores between male and female participants.\n",
        "3. There is no significant interaction effect between dietary supplement dosage and gender on average performance scores.\n",
        "\n",
        "Alternative Hypothesis (H1):\n",
        "\n",
        "1. There is a significant difference in average performance scores among different dietary supplement dosages.\n",
        "2. There is a significant difference in average performance scores between male and female participants.\n",
        "3. There is a significant interaction effect between dietary supplement dosage and gender on average performance scores. We can do this using the following code"
      ]
    },
    {
      "cell_type": "code",
      "execution_count": 59,
      "metadata": {
        "id": "vUfVVH6FksEt"
      },
      "outputs": [
        {
          "data": {
            "text/html": [
              "<div>\n",
              "<style scoped>\n",
              "    .dataframe tbody tr th:only-of-type {\n",
              "        vertical-align: middle;\n",
              "    }\n",
              "\n",
              "    .dataframe tbody tr th {\n",
              "        vertical-align: top;\n",
              "    }\n",
              "\n",
              "    .dataframe thead th {\n",
              "        text-align: right;\n",
              "    }\n",
              "</style>\n",
              "<table border=\"1\" class=\"dataframe\">\n",
              "  <thead>\n",
              "    <tr style=\"text-align: right;\">\n",
              "      <th></th>\n",
              "      <th>Dietary</th>\n",
              "      <th>Supplement_Dosage</th>\n",
              "      <th>Test_values</th>\n",
              "    </tr>\n",
              "  </thead>\n",
              "  <tbody>\n",
              "    <tr>\n",
              "      <th>0</th>\n",
              "      <td>Female</td>\n",
              "      <td>Low</td>\n",
              "      <td>35.6</td>\n",
              "    </tr>\n",
              "    <tr>\n",
              "      <th>1</th>\n",
              "      <td>Female</td>\n",
              "      <td>Medium</td>\n",
              "      <td>49.4</td>\n",
              "    </tr>\n",
              "    <tr>\n",
              "      <th>2</th>\n",
              "      <td>Female</td>\n",
              "      <td>High</td>\n",
              "      <td>55.2</td>\n",
              "    </tr>\n",
              "    <tr>\n",
              "      <th>3</th>\n",
              "      <td>Male</td>\n",
              "      <td>Low</td>\n",
              "      <td>92.2</td>\n",
              "    </tr>\n",
              "    <tr>\n",
              "      <th>4</th>\n",
              "      <td>Male</td>\n",
              "      <td>Medium</td>\n",
              "      <td>45.4</td>\n",
              "    </tr>\n",
              "    <tr>\n",
              "      <th>5</th>\n",
              "      <td>Male</td>\n",
              "      <td>High</td>\n",
              "      <td>70.8</td>\n",
              "    </tr>\n",
              "    <tr>\n",
              "      <th>6</th>\n",
              "      <td>Female</td>\n",
              "      <td>Low</td>\n",
              "      <td>56.9</td>\n",
              "    </tr>\n",
              "    <tr>\n",
              "      <th>7</th>\n",
              "      <td>Female</td>\n",
              "      <td>Medium</td>\n",
              "      <td>87.0</td>\n",
              "    </tr>\n",
              "    <tr>\n",
              "      <th>8</th>\n",
              "      <td>Female</td>\n",
              "      <td>High</td>\n",
              "      <td>23.4</td>\n",
              "    </tr>\n",
              "    <tr>\n",
              "      <th>9</th>\n",
              "      <td>Male</td>\n",
              "      <td>Low</td>\n",
              "      <td>45.9</td>\n",
              "    </tr>\n",
              "    <tr>\n",
              "      <th>10</th>\n",
              "      <td>Male</td>\n",
              "      <td>Medium</td>\n",
              "      <td>34.2</td>\n",
              "    </tr>\n",
              "    <tr>\n",
              "      <th>11</th>\n",
              "      <td>Male</td>\n",
              "      <td>High</td>\n",
              "      <td>98.9</td>\n",
              "    </tr>\n",
              "  </tbody>\n",
              "</table>\n",
              "</div>"
            ],
            "text/plain": [
              "   Dietary Supplement_Dosage  Test_values\n",
              "0   Female               Low         35.6\n",
              "1   Female            Medium         49.4\n",
              "2   Female              High         55.2\n",
              "3     Male               Low         92.2\n",
              "4     Male            Medium         45.4\n",
              "5     Male              High         70.8\n",
              "6   Female               Low         56.9\n",
              "7   Female            Medium         87.0\n",
              "8   Female              High         23.4\n",
              "9     Male               Low         45.9\n",
              "10    Male            Medium         34.2\n",
              "11    Male              High         98.9"
            ]
          },
          "execution_count": 59,
          "metadata": {},
          "output_type": "execute_result"
        }
      ],
      "source": [
        "df = pd.read_csv('dosages.csv')\n",
        "df"
      ]
    },
    {
      "cell_type": "code",
      "execution_count": 60,
      "metadata": {},
      "outputs": [
        {
          "name": "stdout",
          "output_type": "stream",
          "text": [
            "                                      sum_sq   df         F    PR(>F)\n",
            "C(Dietary)                        532.000833  1.0  1.075214  0.339742\n",
            "C(Supplement_Dosage)              130.811667  2.0  0.132190  0.878657\n",
            "C(Dietary):C(Supplement_Dosage)  2869.201667  2.0  2.899438  0.131502\n",
            "Residual                         2968.715000  6.0       NaN       NaN\n"
          ]
        }
      ],
      "source": [
        "test = ols('Test_values ~ C(Dietary) * C(Supplement_Dosage)', data=df).fit()\n",
        "anova_table = sm.stats.anova_lm(test, typ = 2)\n",
        "print(anova_table)\n",
        "\n",
        "#There is no significant difference in average performance on the physical endurance test based on gender, \n",
        "# supplement dosage, or their interaction.\n"
      ]
    },
    {
      "cell_type": "markdown",
      "metadata": {},
      "source": [
        "### Fertiliser and Watering Frequency\n",
        "A researcher wants to investigate the effects of two different fertilizers (‘A’ & ‘B’) and three watering frequencies (‘Low’, ‘Medium’, ‘High’) on the growth of tomato plants.\n",
        "\n",
        "Is there a significant interaction between the fertilizer type and watering frequency on plant growth?\n",
        "\n",
        "Dataset: Data\n",
        "\n",
        "Sample data:\n",
        "\n",
        "Conduct an appropriate hypothesis test to determine only the interaction effects of this research at a 5% significance level."
      ]
    },
    {
      "cell_type": "code",
      "execution_count": 46,
      "metadata": {},
      "outputs": [
        {
          "data": {
            "text/html": [
              "<div>\n",
              "<style scoped>\n",
              "    .dataframe tbody tr th:only-of-type {\n",
              "        vertical-align: middle;\n",
              "    }\n",
              "\n",
              "    .dataframe tbody tr th {\n",
              "        vertical-align: top;\n",
              "    }\n",
              "\n",
              "    .dataframe thead th {\n",
              "        text-align: right;\n",
              "    }\n",
              "</style>\n",
              "<table border=\"1\" class=\"dataframe\">\n",
              "  <thead>\n",
              "    <tr style=\"text-align: right;\">\n",
              "      <th></th>\n",
              "      <th>Fertilizer</th>\n",
              "      <th>Watering_Frequency</th>\n",
              "      <th>Plant_Height</th>\n",
              "    </tr>\n",
              "  </thead>\n",
              "  <tbody>\n",
              "    <tr>\n",
              "      <th>0</th>\n",
              "      <td>A</td>\n",
              "      <td>Low</td>\n",
              "      <td>15.2</td>\n",
              "    </tr>\n",
              "    <tr>\n",
              "      <th>1</th>\n",
              "      <td>A</td>\n",
              "      <td>Medium</td>\n",
              "      <td>20.7</td>\n",
              "    </tr>\n",
              "    <tr>\n",
              "      <th>2</th>\n",
              "      <td>A</td>\n",
              "      <td>High</td>\n",
              "      <td>24.3</td>\n",
              "    </tr>\n",
              "    <tr>\n",
              "      <th>3</th>\n",
              "      <td>B</td>\n",
              "      <td>Low</td>\n",
              "      <td>18.4</td>\n",
              "    </tr>\n",
              "    <tr>\n",
              "      <th>4</th>\n",
              "      <td>B</td>\n",
              "      <td>Medium</td>\n",
              "      <td>23.1</td>\n",
              "    </tr>\n",
              "    <tr>\n",
              "      <th>5</th>\n",
              "      <td>B</td>\n",
              "      <td>High</td>\n",
              "      <td>26.5</td>\n",
              "    </tr>\n",
              "    <tr>\n",
              "      <th>6</th>\n",
              "      <td>A</td>\n",
              "      <td>Low</td>\n",
              "      <td>32.7</td>\n",
              "    </tr>\n",
              "    <tr>\n",
              "      <th>7</th>\n",
              "      <td>A</td>\n",
              "      <td>Medium</td>\n",
              "      <td>21.7</td>\n",
              "    </tr>\n",
              "    <tr>\n",
              "      <th>8</th>\n",
              "      <td>A</td>\n",
              "      <td>High</td>\n",
              "      <td>27.3</td>\n",
              "    </tr>\n",
              "    <tr>\n",
              "      <th>9</th>\n",
              "      <td>B</td>\n",
              "      <td>Low</td>\n",
              "      <td>38.4</td>\n",
              "    </tr>\n",
              "    <tr>\n",
              "      <th>10</th>\n",
              "      <td>B</td>\n",
              "      <td>Medium</td>\n",
              "      <td>33.1</td>\n",
              "    </tr>\n",
              "    <tr>\n",
              "      <th>11</th>\n",
              "      <td>B</td>\n",
              "      <td>High</td>\n",
              "      <td>36.5</td>\n",
              "    </tr>\n",
              "    <tr>\n",
              "      <th>12</th>\n",
              "      <td>A</td>\n",
              "      <td>Low</td>\n",
              "      <td>12.2</td>\n",
              "    </tr>\n",
              "    <tr>\n",
              "      <th>13</th>\n",
              "      <td>A</td>\n",
              "      <td>Medium</td>\n",
              "      <td>22.7</td>\n",
              "    </tr>\n",
              "    <tr>\n",
              "      <th>14</th>\n",
              "      <td>A</td>\n",
              "      <td>High</td>\n",
              "      <td>35.3</td>\n",
              "    </tr>\n",
              "    <tr>\n",
              "      <th>15</th>\n",
              "      <td>B</td>\n",
              "      <td>Low</td>\n",
              "      <td>28.4</td>\n",
              "    </tr>\n",
              "    <tr>\n",
              "      <th>16</th>\n",
              "      <td>B</td>\n",
              "      <td>Medium</td>\n",
              "      <td>22.1</td>\n",
              "    </tr>\n",
              "    <tr>\n",
              "      <th>17</th>\n",
              "      <td>B</td>\n",
              "      <td>High</td>\n",
              "      <td>24.5</td>\n",
              "    </tr>\n",
              "  </tbody>\n",
              "</table>\n",
              "</div>"
            ],
            "text/plain": [
              "   Fertilizer Watering_Frequency  Plant_Height\n",
              "0           A                Low          15.2\n",
              "1           A             Medium          20.7\n",
              "2           A               High          24.3\n",
              "3           B                Low          18.4\n",
              "4           B             Medium          23.1\n",
              "5           B               High          26.5\n",
              "6           A                Low          32.7\n",
              "7           A             Medium          21.7\n",
              "8           A               High          27.3\n",
              "9           B                Low          38.4\n",
              "10          B             Medium          33.1\n",
              "11          B               High          36.5\n",
              "12          A                Low          12.2\n",
              "13          A             Medium          22.7\n",
              "14          A               High          35.3\n",
              "15          B                Low          28.4\n",
              "16          B             Medium          22.1\n",
              "17          B               High          24.5"
            ]
          },
          "execution_count": 46,
          "metadata": {},
          "output_type": "execute_result"
        }
      ],
      "source": [
        "df = pd.read_csv('Fertilizer.csv')\n",
        "df"
      ]
    },
    {
      "cell_type": "code",
      "execution_count": 47,
      "metadata": {},
      "outputs": [
        {
          "name": "stdout",
          "output_type": "stream",
          "text": [
            "                                         sum_sq    df         F    PR(>F)\n",
            "C(Fertilizer)                         84.067222   1.0  1.509060  0.242831\n",
            "C(Watering_Frequency)                100.634444   2.0  0.903226  0.431117\n",
            "C(Fertilizer):C(Watering_Frequency)   50.034444   2.0  0.449075  0.648519\n",
            "Residual                             668.500000  12.0       NaN       NaN\n"
          ]
        }
      ],
      "source": [
        "test = ols('Plant_Height ~ C(Fertilizer) * C(Watering_Frequency)', data=df).fit()\n",
        "anova_table = sm.stats.anova_lm(test, typ = 2)\n",
        "print(anova_table)"
      ]
    },
    {
      "cell_type": "code",
      "execution_count": 48,
      "metadata": {},
      "outputs": [],
      "source": [
        "#Answer : There is not enough evidence to suggest that there is a significant interaction \n",
        "# between the fertilizer type and watering frequency on plant growth"
      ]
    },
    {
      "cell_type": "markdown",
      "metadata": {},
      "source": [
        "###  Education vs Test\n",
        "The Committee head of a national entrance exam wants to analyze if there are any differences in learning outcomes between students with different educational backgrounds (high school or college) and teaching methods (traditional or interactive) on test scores.\n",
        "\n",
        "Data: Dataset\n",
        "\n",
        "Sample data:\n",
        "\n",
        "Conduct an appropriate hypothesis test to determine the main effects & interaction effects of the test at a 5% significance level."
      ]
    },
    {
      "cell_type": "code",
      "execution_count": 49,
      "metadata": {},
      "outputs": [
        {
          "data": {
            "text/html": [
              "<div>\n",
              "<style scoped>\n",
              "    .dataframe tbody tr th:only-of-type {\n",
              "        vertical-align: middle;\n",
              "    }\n",
              "\n",
              "    .dataframe tbody tr th {\n",
              "        vertical-align: top;\n",
              "    }\n",
              "\n",
              "    .dataframe thead th {\n",
              "        text-align: right;\n",
              "    }\n",
              "</style>\n",
              "<table border=\"1\" class=\"dataframe\">\n",
              "  <thead>\n",
              "    <tr style=\"text-align: right;\">\n",
              "      <th></th>\n",
              "      <th>Education</th>\n",
              "      <th>Teaching_Method</th>\n",
              "      <th>Test_Score</th>\n",
              "    </tr>\n",
              "  </thead>\n",
              "  <tbody>\n",
              "    <tr>\n",
              "      <th>0</th>\n",
              "      <td>High School</td>\n",
              "      <td>Traditional</td>\n",
              "      <td>72</td>\n",
              "    </tr>\n",
              "    <tr>\n",
              "      <th>1</th>\n",
              "      <td>High School</td>\n",
              "      <td>Interactive</td>\n",
              "      <td>85</td>\n",
              "    </tr>\n",
              "    <tr>\n",
              "      <th>2</th>\n",
              "      <td>College</td>\n",
              "      <td>Traditional</td>\n",
              "      <td>70</td>\n",
              "    </tr>\n",
              "    <tr>\n",
              "      <th>3</th>\n",
              "      <td>College</td>\n",
              "      <td>Interactive</td>\n",
              "      <td>92</td>\n",
              "    </tr>\n",
              "    <tr>\n",
              "      <th>4</th>\n",
              "      <td>High School</td>\n",
              "      <td>Traditional</td>\n",
              "      <td>74</td>\n",
              "    </tr>\n",
              "    <tr>\n",
              "      <th>5</th>\n",
              "      <td>High School</td>\n",
              "      <td>Interactive</td>\n",
              "      <td>97</td>\n",
              "    </tr>\n",
              "    <tr>\n",
              "      <th>6</th>\n",
              "      <td>College</td>\n",
              "      <td>Traditional</td>\n",
              "      <td>76</td>\n",
              "    </tr>\n",
              "    <tr>\n",
              "      <th>7</th>\n",
              "      <td>College</td>\n",
              "      <td>Interactive</td>\n",
              "      <td>94</td>\n",
              "    </tr>\n",
              "    <tr>\n",
              "      <th>8</th>\n",
              "      <td>High School</td>\n",
              "      <td>Traditional</td>\n",
              "      <td>86</td>\n",
              "    </tr>\n",
              "    <tr>\n",
              "      <th>9</th>\n",
              "      <td>High School</td>\n",
              "      <td>Interactive</td>\n",
              "      <td>90</td>\n",
              "    </tr>\n",
              "    <tr>\n",
              "      <th>10</th>\n",
              "      <td>College</td>\n",
              "      <td>Traditional</td>\n",
              "      <td>69</td>\n",
              "    </tr>\n",
              "    <tr>\n",
              "      <th>11</th>\n",
              "      <td>College</td>\n",
              "      <td>Interactive</td>\n",
              "      <td>78</td>\n",
              "    </tr>\n",
              "    <tr>\n",
              "      <th>12</th>\n",
              "      <td>High School</td>\n",
              "      <td>Traditional</td>\n",
              "      <td>82</td>\n",
              "    </tr>\n",
              "    <tr>\n",
              "      <th>13</th>\n",
              "      <td>High School</td>\n",
              "      <td>Interactive</td>\n",
              "      <td>93</td>\n",
              "    </tr>\n",
              "    <tr>\n",
              "      <th>14</th>\n",
              "      <td>College</td>\n",
              "      <td>Traditional</td>\n",
              "      <td>98</td>\n",
              "    </tr>\n",
              "    <tr>\n",
              "      <th>15</th>\n",
              "      <td>College</td>\n",
              "      <td>Interactive</td>\n",
              "      <td>92</td>\n",
              "    </tr>\n",
              "  </tbody>\n",
              "</table>\n",
              "</div>"
            ],
            "text/plain": [
              "      Education Teaching_Method  Test_Score\n",
              "0   High School     Traditional          72\n",
              "1   High School     Interactive          85\n",
              "2       College     Traditional          70\n",
              "3       College     Interactive          92\n",
              "4   High School     Traditional          74\n",
              "5   High School     Interactive          97\n",
              "6       College     Traditional          76\n",
              "7       College     Interactive          94\n",
              "8   High School     Traditional          86\n",
              "9   High School     Interactive          90\n",
              "10      College     Traditional          69\n",
              "11      College     Interactive          78\n",
              "12  High School     Traditional          82\n",
              "13  High School     Interactive          93\n",
              "14      College     Traditional          98\n",
              "15      College     Interactive          92"
            ]
          },
          "execution_count": 49,
          "metadata": {},
          "output_type": "execute_result"
        }
      ],
      "source": [
        "df = pd.read_csv('Teaching_Method.csv')\n",
        "df"
      ]
    },
    {
      "cell_type": "code",
      "execution_count": 50,
      "metadata": {},
      "outputs": [
        {
          "name": "stdout",
          "output_type": "stream",
          "text": [
            "                                 sum_sq    df         F    PR(>F)\n",
            "C(Education)                       6.25   1.0  0.081477  0.780172\n",
            "C(Teaching_Method)               552.25   1.0  7.199348  0.019920\n",
            "C(Education):C(Teaching_Method)    4.00   1.0  0.052146  0.823216\n",
            "Residual                         920.50  12.0       NaN       NaN\n"
          ]
        }
      ],
      "source": [
        "test = ols('Test_Score ~ C(Education) * C(Teaching_Method)', data=df).fit()\n",
        "anova_table = sm.stats.anova_lm(test, typ = 2)\n",
        "print(anova_table)"
      ]
    },
    {
      "cell_type": "code",
      "execution_count": 51,
      "metadata": {},
      "outputs": [],
      "source": [
        "#The teaching method significantly impacts student test scores, whereas educational background does not.\n",
        "#There is no significant interaction between educational background and teaching method on student performance."
      ]
    },
    {
      "cell_type": "markdown",
      "metadata": {},
      "source": [
        "### Sales Strategy\n",
        "A data analyst is comparing the sales amounts (in dollars) for two different marketing strategies (A and B). The sales data for 20 days under each strategy is collected.\n",
        "\n",
        "\n",
        "sales_strategy_A = [156, 153, 157, 154, 156, 159, 152, 156, 157, 154, 153, 157, 157,152, 155, 154, 151, 157, 155, 151]\n",
        "\n",
        "sales_strategy_B = [135, 147, 126, 136, 158, 139, 163, 141, 156, 142, 130, 129, 161, 158, 117, 151, 121, 135, 123, 153]\n",
        "\n",
        "Perform an appropriate test to assess if there is a significant difference in the sales distributions between Strategy A and Strategy B. \n",
        "\n",
        "Use a significance level of 0.05."
      ]
    },
    {
      "cell_type": "code",
      "execution_count": 64,
      "metadata": {},
      "outputs": [
        {
          "name": "stdout",
          "output_type": "stream",
          "text": [
            "0.65 0.0002704973445409677\n",
            "Reject the H0\n"
          ]
        }
      ],
      "source": [
        "#(H0): The distributions of sales amounts for Strategy A and Strategy B are identical.\n",
        "#(H1): The distributions of sales amounts for Strategy A and Strategy B are not identical.\n",
        "#We can solve this problem using KS Test as we do not have information about the underlying \n",
        "#distribution of sales data.\n",
        "\n",
        "sales_strategy_A = [156, 153, 157, 154, 156, 159, 152, 156, 157, 154, 153, 157, 157,152, 155, 154, 151, 157, 155, 151]\n",
        "\n",
        "sales_strategy_B = [135, 147, 126, 136, 158, 139, 163, 141, 156, 142, 130, 129, 161, 158, 117, 151, 121, 135, 123, 153]\n",
        "\n",
        "A = np.array(sales_strategy_A)\n",
        "B = np.array(sales_strategy_B)\n",
        "\n",
        "ks_stat, p_val = kstest(A, B)\n",
        "print(ks_stat, p_val)\n",
        "\n",
        "alpha = 0.01\n",
        "if p_val < alpha:\n",
        "  print('Reject the H0')\n",
        "else:\n",
        "  print('Fail to reject the H0')\n",
        "\n",
        "#P-value: 0.00027,There is a significant difference in the sales distributions between Strategy A and Strategy B."
      ]
    },
    {
      "cell_type": "code",
      "execution_count": 56,
      "metadata": {},
      "outputs": [
        {
          "data": {
            "image/png": "[encoded data removed]",
            "text/plain": [
              "<Figure size 640x480 with 1 Axes>"
            ]
          },
          "metadata": {},
          "output_type": "display_data"
        }
      ],
      "source": [
        "plt.grid()\n",
        "a = plt.hist(A, bins=100, cumulative=True, label='CDF', density=True, histtype='step')\n",
        "b = plt.hist(B, bins=100, cumulative=True, label='CDF', density=True, histtype='step')\n",
        "plt.show()"
      ]
    },
    {
      "cell_type": "markdown",
      "metadata": {},
      "source": [
        "### Mobile App Response\n",
        "\n",
        "A researcher is investigating the distribution of response times (in seconds) for two different versions of a mobile app, i.e. the time taken for a mobile app to respond to a user action, measured in seconds.\n",
        "\n",
        "The goal is to determine if the response time distributions significantly differ between the two versions.\n",
        "\n",
        "Data for 20 users for each app version is collected.\n",
        "\n",
        "response_times_version_A = [1.2, 1.3, 1.1, 1.4, 1.2, 1.3, 1.0, 1.5, 1.2, 1.3, 1.2, 1.4, 1.1, 1.3, 1.2, 1.5, 1.3, 1.4, 1.2, 1.3]\n",
        "\n",
        "response_times_version_B = [1.6, 1.2, 1.3, 1.4, 1.1, 1.3, 1.2, 1.5, 1.3, 1.4, 1.2, 1.3, 1.2, 1.4, 1.1, 1.3, 1.5, 1.2, 1.3, 1.4]\n",
        "\n",
        "Choose the appropriate test for the given scenario"
      ]
    },
    {
      "cell_type": "code",
      "execution_count": 63,
      "metadata": {},
      "outputs": [],
      "source": [
        "# KS Test"
      ]
    },
    {
      "cell_type": "markdown",
      "metadata": {},
      "source": [
        "### Delivery Method\n",
        "An online shopping platform is testing two different delivery methods to improve the delivery times for their customers.\n",
        "\n",
        "The data below represents the delivery times (in hours) for a sample of orders using Method A and Method B.\n",
        "\n",
        "delivery_method_A = [2.5, 3.2, 2.8, 3.5, 3.0, 2.7, 2.9, 3.1, 2.6, 3.3]\n",
        "\n",
        "delivery_method_B = [3.8, 3.2, 3.5, 3.1, 3.9, 3.0, 3.3, 3.6, 3.4, 3.7]\n",
        "\n",
        "Using an appropriate test, determine if there is a significant difference in the delivery time distributions between Method A and Method B. Use a significance level of 0.05."
      ]
    },
    {
      "cell_type": "code",
      "execution_count": 65,
      "metadata": {},
      "outputs": [
        {
          "name": "stdout",
          "output_type": "stream",
          "text": [
            "0.5 0.16782134274394334\n",
            "Fail to reject the H0\n"
          ]
        }
      ],
      "source": [
        "delivery_method_A = [2.5, 3.2, 2.8, 3.5, 3.0, 2.7, 2.9, 3.1, 2.6, 3.3]\n",
        "\n",
        "delivery_method_B = [3.8, 3.2, 3.5, 3.1, 3.9, 3.0, 3.3, 3.6, 3.4, 3.7]\n",
        "\n",
        "A = np.array(delivery_method_A)\n",
        "B = np.array(delivery_method_B)\n",
        "\n",
        "ks_stat, p_val = kstest(A, B)\n",
        "print(ks_stat, p_val)\n",
        "\n",
        "alpha = 0.05\n",
        "if p_val < alpha:\n",
        "  print('Reject the H0')\n",
        "else:\n",
        "  print('Fail to reject the H0')"
      ]
    },
    {
      "cell_type": "code",
      "execution_count": 66,
      "metadata": {},
      "outputs": [],
      "source": [
        "# P-value:0.1678,There is no significant difference in the delivery time distributions between Method A and Method B."
      ]
    },
    {
      "cell_type": "markdown",
      "metadata": {},
      "source": [
        "### Banking app\n",
        "A bank is launching two different approaches (A and B) to encourage customers to adopt its new mobile banking app. The bank randomly assigns a group of customers to each approach and monitors their adoption rates over a month.\n",
        "\n",
        "Data:\n",
        "\n",
        "Group A (Approach A): [38, 40, 42, 37, 39, 41, 36, 35, 43, 38]  \n",
        "Group B (Approach B): [48, 45, 46, 43, 50, 44, 49, 47, 42, 46] \n",
        "\n",
        "* Note: Assume both Group A & Group B follow the normal distribution.\n",
        "Objective:\n",
        "\n",
        "Assess whether the new incentive program in Approach B leads to a statistically significant improvement in the average adoption rates compared to Approach A.\n",
        "\n",
        "Choose a suitable statistical test."
      ]
    },
    {
      "cell_type": "code",
      "execution_count": 68,
      "metadata": {},
      "outputs": [
        {
          "name": "stdout",
          "output_type": "stream",
          "text": [
            "38.9\n",
            "46.0\n"
          ]
        }
      ],
      "source": [
        "import scipy.stats as stats\n",
        "\n",
        "#(H0): μA ≥ μB \n",
        "#(H1): μA < μB\n",
        "\n",
        "Group_A = [38, 40, 42, 37, 39, 41, 36, 35, 43, 38]  \n",
        "Group_B = [48, 45, 46, 43, 50, 44, 49, 47, 42, 46]\n",
        "\n",
        "print(np.mean(Group_A))\n",
        "print(np.mean(Group_B))"
      ]
    },
    {
      "cell_type": "code",
      "execution_count": 71,
      "metadata": {},
      "outputs": [
        {
          "name": "stdout",
          "output_type": "stream",
          "text": [
            "-6.125851335983492 4.359142475666563e-06\n"
          ]
        }
      ],
      "source": [
        "t_stat, p_val = stats.ttest_ind(Group_A, Group_B, alternative='less')\n",
        "print(t_stat, p_val)"
      ]
    },
    {
      "cell_type": "code",
      "execution_count": 72,
      "metadata": {},
      "outputs": [],
      "source": [
        "#P-value: 4.359e-06, There is a significant difference in adoption rates for Approach B compared to Approach A."
      ]
    },
    {
      "cell_type": "code",
      "execution_count": null,
      "metadata": {},
      "outputs": [],
      "source": []
    }
  ],
  "metadata": {
    "colab": {
      "provenance": []
    },
    "kernelspec": {
      "display_name": "Python 3",
      "name": "python3"
    },
    "language_info": {
      "codemirror_mode": {
        "name": "ipython",
        "version": 3
      },
      "file_extension": ".py",
      "mimetype": "text/x-python",
      "name": "python",
      "nbconvert_exporter": "python",
      "pygments_lexer": "ipython3",
      "version": "3.12.3"
    }
  },
  "nbformat": 4,
  "nbformat_minor": 0
}
