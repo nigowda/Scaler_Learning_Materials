{
  "nbformat": 4,
  "nbformat_minor": 0,
  "metadata": {
    "colab": {
      "provenance": []
    },
    "kernelspec": {
      "name": "python3",
      "display_name": "Python 3"
    },
    "language_info": {
      "name": "python"
    }
  },
  "cells": [
    {
      "cell_type": "code",
      "execution_count": null,
      "metadata": {
        "id": "LkoMuKLf9dJf"
      },
      "outputs": [],
      "source": []
    },
    {
      "cell_type": "markdown",
      "source": [
        "The juice brand claims that the mean sugar content in its juice boxes, produced using a new manufacturing process, is less than 8 grams.\n",
        "The Food Safety and Standards Authority of India (FSSAI) wants to test the null hypothesis in this scenario. Set up the null (H0) and alternate (H1) hypotheses for this claim, and choose the correct option:\n",
        "\n",
        "1. H0: The sugar content in the juice boxes produced using the new manufacturing process is not equal to 8 grams. H1: The sugar content in the juice boxes produced using the new manufacturing process is equal to 8 grams.\n",
        "\n",
        "2. H0: The sugar content in the juice boxes produced using the new manufacturing process is greater than 8 grams. H1: The sugar content in the juice boxes produced using the new manufacturing process is less than or equal to 8 grams.\n",
        "\n",
        "3.\n",
        "H0: The sugar content in the juice boxes produced using the new manufacturing process is less than 8 grams. H1: The sugar content in the juice boxes produced using the new manufacturing process is not equal to 8 grams.\n",
        "\n",
        "4 H0: The sugar content in the juice boxes produced using the new manufacturing process is greater than or equal to 8 grams. H1: The sugar content in the juice boxes produced using the new manufacturing process is less than 8 grams."
      ],
      "metadata": {
        "id": "5d1Y3QzV9hNI"
      }
    },
    {
      "cell_type": "markdown",
      "source": [
        "2. Local people claim that the river water quality is good.\n",
        "An environmental agency wants to test their claim. Upon testing, they obtained a p-value of 0.001.\n",
        "The significance level (α) is set at 0.05. What is the appropriate conclusion?\n",
        "\n",
        "A.\n",
        "Reject the null hypothesis\n",
        "\n",
        "B. Fail to reject the null hypothesis\n",
        "\n",
        "C. Increase THE significance levle\n",
        "\n",
        "d. conduct additional test"
      ],
      "metadata": {
        "id": "Zs_P1q3-AHAR"
      }
    },
    {
      "cell_type": "markdown",
      "source": [
        "3. A security system is designed to detect intruders in a restricted area. The null hypothesis (H0) is that there is no intruder, and the alternate hypothesis (H1) is that there is an intruder. What is a Type II error in this context?\n",
        "\n",
        "A. Detecting an intruder when there isn't one.\n",
        "\n",
        "b. Failing to detect an intruder when there is one.\n",
        "\n",
        "c. Accepting that there is no intruder when there isn't one.\n",
        "\n",
        "d. Rejecting the idea of an intruder when there is one.\n"
      ],
      "metadata": {
        "id": "hJJHiplYGHWe"
      }
    },
    {
      "cell_type": "code",
      "source": [],
      "metadata": {
        "id": "_yegq-HRASN-"
      },
      "execution_count": null,
      "outputs": []
    }
  ]
}