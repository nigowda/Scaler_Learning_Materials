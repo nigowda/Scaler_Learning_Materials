{
  "cells": [
    {
      "cell_type": "code",
      "execution_count": 1,
      "metadata": {
        "id": "E9KOsRYsGnCY"
      },
      "outputs": [],
      "source": [
        "from scipy.stats import binom"
      ]
    },
    {
      "cell_type": "markdown",
      "metadata": {},
      "source": [
        "# One sample Z-Test"
      ]
    },
    {
      "cell_type": "code",
      "execution_count": 2,
      "metadata": {
        "id": "mkEbJQ7HGqP8"
      },
      "outputs": [],
      "source": [
        "p_val = 1 - binom.cdf(n=10, k=6, p=0.5)"
      ]
    },
    {
      "cell_type": "code",
      "execution_count": 3,
      "metadata": {
        "colab": {
          "base_uri": "https://localhost:8080/"
        },
        "id": "Q8gU4hM5G-Yt",
        "outputId": "b9cdfce2-c508-41b1-c703-c19dc60b9d1d"
      },
      "outputs": [
        {
          "name": "stdout",
          "output_type": "stream",
          "text": [
            "Fail to Reject Null Hypothesis\n"
          ]
        }
      ],
      "source": [
        "alpha = 0.05\n",
        "if p_val < alpha:\n",
        "  print('Reject Null Hypothesis')\n",
        "else:\n",
        "  print('Fail to Reject Null Hypothesis')"
      ]
    },
    {
      "cell_type": "code",
      "execution_count": 4,
      "metadata": {
        "colab": {
          "base_uri": "https://localhost:8080/"
        },
        "id": "Bwg-MHPpHKkt",
        "outputId": "349661b9-e2f7-4dba-9909-2062ee4da7f5"
      },
      "outputs": [
        {
          "data": {
            "text/plain": [
              "0.171875"
            ]
          },
          "execution_count": 4,
          "metadata": {},
          "output_type": "execute_result"
        }
      ],
      "source": [
        "p_val"
      ]
    },
    {
      "cell_type": "markdown",
      "metadata": {
        "id": "BA9oxsAwHmxZ"
      },
      "source": [
        "#### Toss for 100 times and get 70 or more heads"
      ]
    },
    {
      "cell_type": "code",
      "execution_count": 5,
      "metadata": {
        "colab": {
          "base_uri": "https://localhost:8080/"
        },
        "id": "_uMjTZhaHqcn",
        "outputId": "23c3703d-8ea2-40fa-aa17-e5ac22a1a6fe"
      },
      "outputs": [
        {
          "data": {
            "text/plain": [
              "3.925069822796612e-05"
            ]
          },
          "execution_count": 5,
          "metadata": {},
          "output_type": "execute_result"
        }
      ],
      "source": [
        "p_val = 1 - binom.cdf(n=100, k=69, p=0.5)\n",
        "p_val"
      ]
    },
    {
      "cell_type": "code",
      "execution_count": 6,
      "metadata": {
        "colab": {
          "base_uri": "https://localhost:8080/"
        },
        "id": "H8UIeYwRHyOr",
        "outputId": "5bd90741-aa30-4fd3-8a7f-62706af290c0"
      },
      "outputs": [
        {
          "name": "stdout",
          "output_type": "stream",
          "text": [
            "Reject Null Hypothesis\n"
          ]
        }
      ],
      "source": [
        "alpha = 0.05\n",
        "if p_val < alpha:\n",
        "  print('Reject Null Hypothesis')\n",
        "else:\n",
        "  print('Fail to Reject Null Hypothesis')"
      ]
    },
    {
      "cell_type": "code",
      "execution_count": 7,
      "metadata": {
        "id": "Otxq8eVePbzO"
      },
      "outputs": [],
      "source": [
        "import numpy as np"
      ]
    },
    {
      "cell_type": "markdown",
      "metadata": {},
      "source": [
        "### Firm A"
      ]
    },
    {
      "cell_type": "code",
      "execution_count": 8,
      "metadata": {
        "colab": {
          "base_uri": "https://localhost:8080/"
        },
        "id": "rTZxe0iPPYH8",
        "outputId": "9b6fb7c1-cd4a-443e-cfd7-8bcf2abfc2c0"
      },
      "outputs": [
        {
          "data": {
            "text/plain": [
              "3.5355339059327378"
            ]
          },
          "execution_count": 8,
          "metadata": {},
          "output_type": "execute_result"
        }
      ],
      "source": [
        "z = (1850 - 1800)/(100/np.sqrt(50))\n",
        "z"
      ]
    },
    {
      "cell_type": "code",
      "execution_count": 9,
      "metadata": {
        "id": "CvrpeaziPmDX"
      },
      "outputs": [],
      "source": [
        "from scipy.stats import norm"
      ]
    },
    {
      "cell_type": "code",
      "execution_count": 10,
      "metadata": {
        "colab": {
          "base_uri": "https://localhost:8080/"
        },
        "id": "oRjoIJvOPgq4",
        "outputId": "ec424f49-d78f-4d86-ceb8-953e406a2ecc"
      },
      "outputs": [
        {
          "data": {
            "text/plain": [
              "0.00020347600872250293"
            ]
          },
          "execution_count": 10,
          "metadata": {},
          "output_type": "execute_result"
        }
      ],
      "source": [
        "p_val = 1 - norm.cdf(z)\n",
        "p_val"
      ]
    },
    {
      "cell_type": "code",
      "execution_count": 11,
      "metadata": {
        "colab": {
          "base_uri": "https://localhost:8080/"
        },
        "id": "RW2Lj-g-Prj2",
        "outputId": "7a3aa9eb-bf5f-4160-9a30-f55e8d796689"
      },
      "outputs": [
        {
          "name": "stdout",
          "output_type": "stream",
          "text": [
            "Reject the null Hypothesis\n"
          ]
        }
      ],
      "source": [
        "alpha = 0.01\n",
        "if p_val < alpha:\n",
        "  print('Reject the null Hypothesis')\n",
        "else:\n",
        "  print('Fail to reject the null Hypothesis')"
      ]
    },
    {
      "cell_type": "markdown",
      "metadata": {},
      "source": [
        "### Firm B"
      ]
    },
    {
      "cell_type": "code",
      "execution_count": 12,
      "metadata": {
        "colab": {
          "base_uri": "https://localhost:8080/"
        },
        "id": "haKwFgwPQU_N",
        "outputId": "4fdabd0f-45bf-4100-babd-ebef1498baee"
      },
      "outputs": [
        {
          "data": {
            "text/plain": [
              "2.23606797749979"
            ]
          },
          "execution_count": 12,
          "metadata": {},
          "output_type": "execute_result"
        }
      ],
      "source": [
        "z = (1900 - 1800)/(100/np.sqrt(5))\n",
        "z"
      ]
    },
    {
      "cell_type": "code",
      "execution_count": 13,
      "metadata": {
        "colab": {
          "base_uri": "https://localhost:8080/"
        },
        "id": "sTd1LoaUQ8dx",
        "outputId": "61331ff6-49ba-4ad4-b795-af0211c0cf40"
      },
      "outputs": [
        {
          "data": {
            "text/plain": [
              "0.0126736593387341"
            ]
          },
          "execution_count": 13,
          "metadata": {},
          "output_type": "execute_result"
        }
      ],
      "source": [
        "p_val = 1 - norm.cdf(z)\n",
        "p_val"
      ]
    },
    {
      "cell_type": "code",
      "execution_count": 14,
      "metadata": {
        "colab": {
          "base_uri": "https://localhost:8080/"
        },
        "id": "SHxGAw3hRLUs",
        "outputId": "a016da77-9837-43c3-fcc6-7cdbc103b8c6"
      },
      "outputs": [
        {
          "name": "stdout",
          "output_type": "stream",
          "text": [
            "Fail to reject the null Hypothesis\n"
          ]
        }
      ],
      "source": [
        "alpha = 0.01\n",
        "if p_val < alpha:\n",
        "  print('Reject the null Hypothesis')\n",
        "else:\n",
        "  print('Fail to reject the null Hypothesis')"
      ]
    },
    {
      "cell_type": "code",
      "execution_count": 15,
      "metadata": {
        "colab": {
          "base_uri": "https://localhost:8080/"
        },
        "id": "FCGPHwlQV9W3",
        "outputId": "6b1cdf8c-2f76-45cd-869e-d0c41a9dcb5c"
      },
      "outputs": [
        {
          "data": {
            "text/plain": [
              "-1.8257418583505536"
            ]
          },
          "execution_count": 15,
          "metadata": {},
          "output_type": "execute_result"
        }
      ],
      "source": [
        "#Quiz\n",
        "\n",
        "z = (7600 - 8000)/(1200/np.sqrt(30))\n",
        "z"
      ]
    },
    {
      "cell_type": "code",
      "execution_count": 16,
      "metadata": {
        "colab": {
          "base_uri": "https://localhost:8080/"
        },
        "id": "602p9vuvWEfu",
        "outputId": "f6c8bbf7-299a-45f6-8a29-b2ed2422e1d2"
      },
      "outputs": [
        {
          "data": {
            "text/plain": [
              "0.033944577430914516"
            ]
          },
          "execution_count": 16,
          "metadata": {},
          "output_type": "execute_result"
        }
      ],
      "source": [
        "p_val = norm.cdf(z)\n",
        "p_val"
      ]
    },
    {
      "cell_type": "code",
      "execution_count": 17,
      "metadata": {
        "colab": {
          "base_uri": "https://localhost:8080/"
        },
        "id": "MIwIBMS0WQZq",
        "outputId": "5f0494a7-f0ad-47f5-a884-4f2e9a82f62d"
      },
      "outputs": [
        {
          "data": {
            "text/plain": [
              "True"
            ]
          },
          "execution_count": 17,
          "metadata": {},
          "output_type": "execute_result"
        }
      ],
      "source": [
        "p_val < 0.05"
      ]
    },
    {
      "cell_type": "code",
      "execution_count": 18,
      "metadata": {
        "colab": {
          "base_uri": "https://localhost:8080/"
        },
        "id": "bjUPlbkKY40u",
        "outputId": "91d8fea1-9542-41fe-aacf-4174606762c9"
      },
      "outputs": [
        {
          "data": {
            "text/plain": [
              "2.121320343559643"
            ]
          },
          "execution_count": 18,
          "metadata": {},
          "output_type": "execute_result"
        }
      ],
      "source": [
        "#Firm A\n",
        "\n",
        "z = (1830 - 1800)/(100/np.sqrt(50))\n",
        "z"
      ]
    },
    {
      "cell_type": "code",
      "execution_count": 19,
      "metadata": {
        "colab": {
          "base_uri": "https://localhost:8080/"
        },
        "id": "VT1plhX3Y6mV",
        "outputId": "2b787203-7114-4ca4-e182-2cffda0e66e0"
      },
      "outputs": [
        {
          "data": {
            "text/plain": [
              "0.01694742676234462"
            ]
          },
          "execution_count": 19,
          "metadata": {},
          "output_type": "execute_result"
        }
      ],
      "source": [
        "p_val = 1 - norm.cdf(z)\n",
        "p_val"
      ]
    },
    {
      "cell_type": "code",
      "execution_count": 20,
      "metadata": {
        "colab": {
          "base_uri": "https://localhost:8080/"
        },
        "id": "gWJXAE3iZbDY",
        "outputId": "40fb9514-2148-4858-aa4d-cf20ff2336fc"
      },
      "outputs": [
        {
          "data": {
            "text/plain": [
              "2.3263478740408408"
            ]
          },
          "execution_count": 20,
          "metadata": {},
          "output_type": "execute_result"
        }
      ],
      "source": [
        "z = norm.ppf(0.99)\n",
        "z"
      ]
    },
    {
      "cell_type": "code",
      "execution_count": 21,
      "metadata": {
        "colab": {
          "base_uri": "https://localhost:8080/"
        },
        "id": "AjEfTVkUZfeS",
        "outputId": "25310e9e-4440-4b39-a845-5c00b1193778"
      },
      "outputs": [
        {
          "data": {
            "text/plain": [
              "1832.8995271426638"
            ]
          },
          "execution_count": 21,
          "metadata": {},
          "output_type": "execute_result"
        }
      ],
      "source": [
        "#Firm A critical value\n",
        "\n",
        "x = (z*(100/np.sqrt(50))) + 1800\n",
        "x"
      ]
    },
    {
      "cell_type": "code",
      "execution_count": 22,
      "metadata": {
        "colab": {
          "base_uri": "https://localhost:8080/"
        },
        "id": "u2N9MtLhbjdt",
        "outputId": "a5cda811-9169-490a-92ba-b232d38bd147"
      },
      "outputs": [
        {
          "data": {
            "text/plain": [
              "1904.0374397133487"
            ]
          },
          "execution_count": 22,
          "metadata": {},
          "output_type": "execute_result"
        }
      ],
      "source": [
        "#Firm B critical value\n",
        "\n",
        "x = (z*(100/np.sqrt(5))) + 1800\n",
        "x"
      ]
    },
    {
      "cell_type": "code",
      "execution_count": 23,
      "metadata": {
        "colab": {
          "base_uri": "https://localhost:8080/"
        },
        "id": "kNEC9GNzcMDw",
        "outputId": "6da3b669-b81c-4187-c6e0-859cc42b1fa3"
      },
      "outputs": [
        {
          "data": {
            "text/plain": [
              "2.3478713763747794"
            ]
          },
          "execution_count": 23,
          "metadata": {},
          "output_type": "execute_result"
        }
      ],
      "source": [
        "#Firm B\n",
        "\n",
        "z = (1905 - 1800)/(100/np.sqrt(5))\n",
        "z"
      ]
    },
    {
      "cell_type": "code",
      "execution_count": 24,
      "metadata": {
        "colab": {
          "base_uri": "https://localhost:8080/"
        },
        "id": "lcm5V2M5cN-8",
        "outputId": "b3e2625b-fb14-4256-9550-2cfc1d37c21d"
      },
      "outputs": [
        {
          "data": {
            "text/plain": [
              "0.009440520078049408"
            ]
          },
          "execution_count": 24,
          "metadata": {},
          "output_type": "execute_result"
        }
      ],
      "source": [
        "1 - norm.cdf(z)"
      ]
    },
    {
      "cell_type": "markdown",
      "metadata": {},
      "source": [
        "## Assignment questions"
      ]
    },
    {
      "cell_type": "markdown",
      "metadata": {},
      "source": [
        "### Short state\n",
        "\n",
        "A country has a population average height of 65 inches with a standard deviation of 2.5. A person feels people from his state are shorter. He takes the average of 20 people and sees that it is 64.5.\n",
        "\n",
        "At a 5% significance level (or 95% confidence level), can we conclude that people from his state are shorter, using the Z-test? What is the p-value?"
      ]
    },
    {
      "cell_type": "code",
      "execution_count": 25,
      "metadata": {},
      "outputs": [
        {
          "name": "stdout",
          "output_type": "stream",
          "text": [
            "Z-score -0.8944271909999159\n",
            "P-Value 0.18554668476134878\n"
          ]
        },
        {
          "data": {
            "text/plain": [
              "False"
            ]
          },
          "execution_count": 25,
          "metadata": {},
          "output_type": "execute_result"
        }
      ],
      "source": [
        "# Ho : μ = 65\n",
        "# HA : μ < 65\n",
        "# Normal distribution\n",
        "# Left tailed test\n",
        "\n",
        "mu = 65\n",
        "sd = 2.5\n",
        "n = 20\n",
        "x = 64.5\n",
        "\n",
        "z=(x-mu)/(sd/np.sqrt(n))\n",
        "print('Z-score', z)\n",
        "\n",
        "p_value = norm.cdf(z)\n",
        "print('P-Value', p_value)\n",
        "\n",
        "p_value < 0.05"
      ]
    },
    {
      "cell_type": "markdown",
      "metadata": {},
      "source": [
        "### Pastries Produced Per Day\n",
        "\n",
        "A French cafe has historically maintained that their average daily pastry production is at most 500.\n",
        "\n",
        "With the installation of a new machine, they assert that the average daily pastry production has increased. The average number of pastries produced per day over a 70-day period was found to be 530.\n",
        "\n",
        "Assume that the population standard deviation for the pastries produced per day is 125.\n",
        "\n",
        "Perform a z-test with the critical z-value = 1.64 at the alpha (significance level) = 0.05 to evaluate if there's sufficient evidence to support their claim of the new machine producing more than 500 pastries daily.\n",
        "\n",
        "Note: Round off the z-score to two decimal places."
      ]
    },
    {
      "cell_type": "code",
      "execution_count": 26,
      "metadata": {},
      "outputs": [
        {
          "name": "stdout",
          "output_type": "stream",
          "text": [
            "Z-score 2.007984063681781\n",
            "P-Value 0.022322492581293485\n"
          ]
        },
        {
          "data": {
            "text/plain": [
              "True"
            ]
          },
          "execution_count": 26,
          "metadata": {},
          "output_type": "execute_result"
        }
      ],
      "source": [
        "# Ho : μ = 500\n",
        "# HA : μ > 500\n",
        "# Normal distribution\n",
        "# RIght tailed test\n",
        "\n",
        "mu = 500\n",
        "sd = 125\n",
        "n = 70\n",
        "x = 530\n",
        "\n",
        "z=(x-mu)/(sd/np.sqrt(n))\n",
        "print('Z-score', z)\n",
        "\n",
        "p_value = 1-norm.cdf(z)\n",
        "print('P-Value', p_value)\n",
        "\n",
        "p_value < 0.05"
      ]
    },
    {
      "cell_type": "markdown",
      "metadata": {},
      "source": [
        "### India runs on Chai\n",
        "\n",
        "The Chai Point stall at Bengaluru airport estimates that each person visiting the store drinks an average of 1.7 small cups of tea.\n",
        "\n",
        "Assume a population standard deviation of 0.5 small cups. A sample of 30 customers collected over a few days averaged 1.85 small cups of tea per person.\n",
        "\n",
        "Test the claim using an appropriate test at an alpha = 0.05 significance value, with a critical z-score value of ±1.96.\n",
        "\n",
        "Note: Round off the z-score to two decimal places."
      ]
    },
    {
      "cell_type": "code",
      "execution_count": 27,
      "metadata": {},
      "outputs": [
        {
          "name": "stdout",
          "output_type": "stream",
          "text": [
            "Z-score 1.6431676725155\n",
            "P-Value 0.05017412323114523\n"
          ]
        },
        {
          "data": {
            "text/plain": [
              "False"
            ]
          },
          "execution_count": 27,
          "metadata": {},
          "output_type": "execute_result"
        }
      ],
      "source": [
        "# Ho : μ = 1.7\n",
        "# HA : μ > 1.7\n",
        "# Normal distribution\n",
        "# RIght tailed test\n",
        "\n",
        "mu = 1.7\n",
        "sd = 0.5\n",
        "n = 30\n",
        "x = 1.85\n",
        "\n",
        "z=(x-mu)/(sd/np.sqrt(n))\n",
        "print('Z-score', z)\n",
        "\n",
        "p_value = 1-norm.cdf(z)\n",
        "print('P-Value', p_value)\n",
        "\n",
        "p_value < 0.05"
      ]
    },
    {
      "cell_type": "markdown",
      "metadata": {},
      "source": [
        "### Web Application Response\n",
        "\n",
        "A data scientist is looking at how a web application responds, with an average response time of 250 milliseconds and a standard deviation of 30 milliseconds.\n",
        "\n",
        "Find the critical value for a 96% confidence level."
      ]
    },
    {
      "cell_type": "code",
      "execution_count": 28,
      "metadata": {},
      "outputs": [
        {
          "name": "stdout",
          "output_type": "stream",
          "text": [
            "311.61246731895466\n"
          ]
        }
      ],
      "source": [
        "mu = 250\n",
        "sd = 30\n",
        "\n",
        "x = mu + ((norm.ppf(1-(1-0.96)/2))) * sd\n",
        "print(x)"
      ]
    },
    {
      "cell_type": "markdown",
      "metadata": {},
      "source": [
        "### CI and Conclusion\n",
        "\n",
        "A marketing team aims to estimate the average time, visitors spend on their website.\n",
        "\n",
        "They gathered a random sample of 100 visitors and determined that the average time spent on the website was 4.5 minutes.\n",
        "\n",
        "The team is working under the assumption that the population's mean time spent on the website is 4.0 minutes, with a standard deviation of 1.2 minutes.\n",
        "\n",
        "Their goal is to estimate the true time spent on the website with a 95% confidence level. Calculate the confidence interval values and make a conclusion based on the calculated interval."
      ]
    },
    {
      "cell_type": "code",
      "execution_count": 29,
      "metadata": {},
      "outputs": [
        {
          "data": {
            "text/plain": [
              "(4.264804321855194, 4.735195678144806)"
            ]
          },
          "execution_count": 29,
          "metadata": {},
          "output_type": "execute_result"
        }
      ],
      "source": [
        "#H0 = mu = 4\n",
        "#HA = mu != 4\n",
        "\n",
        "n=100\n",
        "x = 4.5\n",
        "mu = 4\n",
        "sd = 1.2\n",
        "ci=0.95\n",
        "alpha = 0.05\n",
        "\n",
        "z_critical = norm.ppf(1-alpha/2)\n",
        "\n",
        "marginal_error = z_critical * (sd/np.sqrt(n))\n",
        "\n",
        "(x-marginal_error, x+marginal_error)"
      ]
    },
    {
      "cell_type": "markdown",
      "metadata": {},
      "source": [
        "###  Institution's claim\n",
        "\n",
        "It is known that the mean IQ of high school students is 100, and the standard deviation is 15.\n",
        "\n",
        "A coaching institute claims that candidates who study there have more IQ than an average high school student. When the IQ of 50 candidates was calculated, the average turned out to be 110\n",
        "\n",
        "Conduct an appropriate hypothesis test to test the institute’s claim, with a significance level of 5%"
      ]
    },
    {
      "cell_type": "code",
      "execution_count": 30,
      "metadata": {},
      "outputs": [
        {
          "name": "stdout",
          "output_type": "stream",
          "text": [
            "Z-score 4.714045207910317\n",
            "P-Value 1.2142337364462463e-06\n"
          ]
        },
        {
          "data": {
            "text/plain": [
              "True"
            ]
          },
          "execution_count": 30,
          "metadata": {},
          "output_type": "execute_result"
        }
      ],
      "source": [
        "# Ho : μ = 100\n",
        "# HA : μ > 100\n",
        "# Normal distribution\n",
        "# Right tailed test\n",
        "\n",
        "mu = 100\n",
        "sd = 15\n",
        "n = 50\n",
        "x = 110\n",
        "\n",
        "z=(x-mu)/(sd/np.sqrt(n))\n",
        "print('Z-score', z)\n",
        "\n",
        "p_value = 1-norm.cdf(z)\n",
        "print('P-Value', p_value)\n",
        "\n",
        "p_value < 0.05"
      ]
    },
    {
      "cell_type": "markdown",
      "metadata": {},
      "source": [
        "### Smokers\n",
        "When smokers smoke, nicotine is transformed into cotinine, which can be tested.\n",
        "\n",
        "The average cotinine level in a group of 50 smokers was 243.5 ng ml.\n",
        "\n",
        "Assuming that the standard deviation is known to be 229.5 ng ml.\n",
        "\n",
        "Test the assertion that the mean cotinine level of all smokers is equal to 300.0 ng ml, at 95% confidence."
      ]
    },
    {
      "cell_type": "code",
      "execution_count": 31,
      "metadata": {},
      "outputs": [
        {
          "name": "stdout",
          "output_type": "stream",
          "text": [
            "Z-score -1.7408075440976007\n",
            "P-Value 0.08171731915149638\n"
          ]
        },
        {
          "data": {
            "text/plain": [
              "False"
            ]
          },
          "execution_count": 31,
          "metadata": {},
          "output_type": "execute_result"
        }
      ],
      "source": [
        "# Ho : μ = 300\n",
        "# HA : μ != 300\n",
        "# Normal distribution\n",
        "# Two tailed test\n",
        "\n",
        "mu = 300\n",
        "sd = 229.5\n",
        "n = 50\n",
        "x = 243.5\n",
        "\n",
        "z = (x-mu)/(sd/np.sqrt(n))\n",
        "print('Z-score', z)\n",
        "\n",
        "p_value = 2*(1-norm.cdf(np.abs(z)))\n",
        "print('P-Value', p_value)\n",
        "\n",
        "p_value < 0.05"
      ]
    },
    {
      "cell_type": "code",
      "execution_count": null,
      "metadata": {},
      "outputs": [],
      "source": []
    }
  ],
  "metadata": {
    "colab": {
      "provenance": []
    },
    "kernelspec": {
      "display_name": "Python 3",
      "name": "python3"
    },
    "language_info": {
      "codemirror_mode": {
        "name": "ipython",
        "version": 3
      },
      "file_extension": ".py",
      "mimetype": "text/x-python",
      "name": "python",
      "nbconvert_exporter": "python",
      "pygments_lexer": "ipython3",
      "version": "3.12.3"
    }
  },
  "nbformat": 4,
  "nbformat_minor": 0
}
