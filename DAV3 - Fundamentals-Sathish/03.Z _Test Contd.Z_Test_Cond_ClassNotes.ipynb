{
  "cells": [
    {
      "cell_type": "code",
      "execution_count": 1,
      "metadata": {
        "id": "w8P0-cwST6HU"
      },
      "outputs": [],
      "source": [
        "import numpy as np\n",
        "from scipy.stats import norm"
      ]
    },
    {
      "cell_type": "markdown",
      "metadata": {},
      "source": [
        "# Confidence interval"
      ]
    },
    {
      "cell_type": "code",
      "execution_count": 2,
      "metadata": {
        "colab": {
          "base_uri": "https://localhost:8080/"
        },
        "id": "4y0h4koqT9re",
        "outputId": "11e87ed6-708b-4167-8364-aa9f64ab0417"
      },
      "outputs": [
        {
          "data": {
            "text/plain": [
              "(1817.1004728573362, 1882.8995271426638)"
            ]
          },
          "execution_count": 2,
          "metadata": {},
          "output_type": "execute_result"
        }
      ],
      "source": [
        "\n",
        "population_mean = 1800\n",
        "sample_mean = 1850\n",
        "sample_size = 50\n",
        "population_stddev = 100\n",
        "alpha = 0.01\n",
        "\n",
        "z_critical = norm.ppf(1-alpha)\n",
        "margin_of_error = z_critical*(population_stddev/np.sqrt(sample_size))\n",
        "confidence_interval = (sample_mean - margin_of_error, sample_mean+margin_of_error)\n",
        "confidence_interval"
      ]
    },
    {
      "cell_type": "code",
      "execution_count": 3,
      "metadata": {
        "colab": {
          "base_uri": "https://localhost:8080/"
        },
        "id": "77IGUJbTadM0",
        "outputId": "da746b16-7fef-4f26-acc1-a97bfeabcfec"
      },
      "outputs": [
        {
          "name": "stdout",
          "output_type": "stream",
          "text": [
            "Reject the null hypothesis\n"
          ]
        }
      ],
      "source": [
        "if confidence_interval[0] <= population_mean <= confidence_interval[1]:\n",
        "  print('Fail to Reject the null hypothesis')\n",
        "else:\n",
        "  print('Reject the null hypothesis')"
      ]
    },
    {
      "cell_type": "code",
      "execution_count": 4,
      "metadata": {
        "colab": {
          "base_uri": "https://localhost:8080/"
        },
        "id": "YT4D5VT1cpcs",
        "outputId": "d6e7551e-039b-45dc-ca41-3eb6edaf90c3"
      },
      "outputs": [
        {
          "data": {
            "text/plain": [
              "(1795.9625602866513, 2004.0374397133487)"
            ]
          },
          "execution_count": 4,
          "metadata": {},
          "output_type": "execute_result"
        }
      ],
      "source": [
        "population_mean = 1800\n",
        "sample_mean = 1900\n",
        "sample_size = 5\n",
        "population_stddev = 100\n",
        "alpha = 0.01\n",
        "\n",
        "z_critical = norm.ppf(1-alpha)\n",
        "margin_of_error = z_critical*(population_stddev/np.sqrt(sample_size))\n",
        "confidence_interval = (sample_mean - margin_of_error, sample_mean+margin_of_error)\n",
        "confidence_interval"
      ]
    },
    {
      "cell_type": "markdown",
      "metadata": {},
      "source": [
        "# Two sample Z-Test"
      ]
    },
    {
      "cell_type": "code",
      "execution_count": 5,
      "metadata": {
        "id": "LuAaecslozQn"
      },
      "outputs": [],
      "source": [
        "import random\n",
        "\n",
        "random.seed(123)\n",
        "\n",
        "m1_data = []"
      ]
    },
    {
      "cell_type": "code",
      "execution_count": 6,
      "metadata": {
        "colab": {
          "base_uri": "https://localhost:8080/"
        },
        "id": "s4tRT6qao9QT",
        "outputId": "e2fb06a2-5387-41e7-a784-94d4470d7f90"
      },
      "outputs": [
        {
          "name": "stdout",
          "output_type": "stream",
          "text": [
            "2\n",
            "7\n",
            "7\n"
          ]
        }
      ],
      "source": [
        "import random\n",
        "random.seed(100)\n",
        "print(random.randint(0, 10))\n",
        "print(random.randint(0, 10))\n",
        "print(random.randint(0, 10))"
      ]
    },
    {
      "cell_type": "code",
      "execution_count": 7,
      "metadata": {
        "colab": {
          "base_uri": "https://localhost:8080/"
        },
        "id": "AmjBFaVHpHk5",
        "outputId": "9ba88ca3-2898-468c-97e6-67567648e796"
      },
      "outputs": [
        {
          "name": "stdout",
          "output_type": "stream",
          "text": [
            "2\n",
            "7\n",
            "7\n"
          ]
        }
      ],
      "source": [
        "random.seed(100)\n",
        "print(random.randint(0, 10))\n",
        "print(random.randint(0, 10))\n",
        "print(random.randint(0, 10))"
      ]
    },
    {
      "cell_type": "code",
      "execution_count": 8,
      "metadata": {
        "colab": {
          "base_uri": "https://localhost:8080/"
        },
        "id": "pnJZJ8R3pROR",
        "outputId": "cc472af8-75fb-4ec8-a22b-06f49972bbd1"
      },
      "outputs": [
        {
          "name": "stdout",
          "output_type": "stream",
          "text": [
            "[6.0, 6.0, 11.0, 7.0, 19.0, 6.0, 13.0, 10.0, 18.0, 7.0, 10.0, 10.0, 9.0, 5.0, 12.0, 6.0, 14.0, 6.0, 10.0, 12.0, 19.0, 6.0, 7.0, 17.0, 5.0, 19.0, 14.0, 9.0, 18.0, 17.0, 10.0, 17.0, 8.0, 14.0, 13.0, 17.0, 10.0, 11.0, 17.0, 13.0, 15.0, 15.0, 15.0, 18.0, 12.0, 15.0, 11.0, 5.0, 16.0, 8.0, 17.0, 19.0, 15.0, 8.0, 10.0, 11.0, 6.0, 12.0, 14.0, 10.0, 8.0, 6.0, 14.0, 5.0, 10.0, 8.0, 13.0, 16.0, 19.0, 15.0, 20.0, 19.0, 14.0, 9.0, 12.0, 8.0, 20.0, 12.0, 16.0, 6.0, 7.0, 8.0, 9.0, 10.0, 9.0, 12.0, 11.0, 7.0, 6.0, 10.0, 6.0, 11.0, 5.0, 13.0, 6.0, 15.0, 11.0, 20.0, 9.0, 12.0]\n"
          ]
        }
      ],
      "source": [
        "random.seed(123)\n",
        "\n",
        "m1_data = []\n",
        "for i in range(100):\n",
        "  recovery_time = random.uniform(5.0, 20.0)\n",
        "  m1_data.append(np.round(recovery_time, 0))\n",
        "print(m1_data)"
      ]
    },
    {
      "cell_type": "code",
      "execution_count": 9,
      "metadata": {
        "colab": {
          "base_uri": "https://localhost:8080/"
        },
        "id": "HFj5LQ3Rp1ep",
        "outputId": "9ad52453-de14-40c7-a3c5-e67f60743a00"
      },
      "outputs": [
        {
          "name": "stdout",
          "output_type": "stream",
          "text": [
            "[24.0, 13.0, 14.0, 21.0, 29.0, 27.0, 15.0, 23.0, 22.0, 14.0, 11.0, 7.0, 27.0, 6.0, 18.0, 18.0, 9.0, 21.0, 28.0, 24.0, 15.0, 8.0, 29.0, 18.0, 21.0, 25.0, 15.0, 7.0, 8.0, 22.0, 14.0, 27.0, 24.0, 30.0, 22.0, 13.0, 25.0, 6.0, 18.0, 27.0, 18.0, 8.0, 18.0, 19.0, 14.0, 27.0, 14.0, 12.0, 18.0, 10.0, 13.0, 15.0, 28.0, 7.0, 10.0, 10.0, 30.0, 27.0, 10.0, 19.0, 7.0, 13.0, 14.0, 18.0, 28.0, 25.0, 18.0, 25.0, 17.0, 23.0, 24.0, 11.0, 26.0, 19.0, 17.0, 15.0, 11.0, 18.0, 8.0, 21.0, 27.0, 25.0, 20.0, 17.0, 22.0, 8.0, 6.0, 27.0, 14.0, 22.0]\n"
          ]
        }
      ],
      "source": [
        "m2_data = []\n",
        "for i in range(90):\n",
        "  recovery_time = random.uniform(5.0, 30.0)\n",
        "  m2_data.append(np.round(recovery_time, 0))\n",
        "print(m2_data)"
      ]
    },
    {
      "cell_type": "code",
      "execution_count": 10,
      "metadata": {
        "colab": {
          "base_uri": "https://localhost:8080/"
        },
        "id": "W9FH84G4qM6H",
        "outputId": "c011f547-c28c-4706-8e50-b0f186470433"
      },
      "outputs": [
        {
          "data": {
            "text/plain": [
              "(-7.68917478890992, 1.4808703984296164e-14)"
            ]
          },
          "execution_count": 10,
          "metadata": {},
          "output_type": "execute_result"
        }
      ],
      "source": [
        "from statsmodels.stats import weightstats as test\n",
        "\n",
        "z_score, p_val = test.ztest(x1=m1_data, x2=m2_data, value=0, alternative='two-sided')\n",
        "z_score, p_val"
      ]
    },
    {
      "cell_type": "code",
      "execution_count": null,
      "metadata": {
        "id": "xkJIiYhBsI9W"
      },
      "outputs": [],
      "source": []
    },
    {
      "cell_type": "code",
      "execution_count": 11,
      "metadata": {
        "colab": {
          "base_uri": "https://localhost:8080/"
        },
        "id": "HJzFXhPcrLli",
        "outputId": "f16e17d7-0248-45bc-ed78-26b90418ef18"
      },
      "outputs": [
        {
          "name": "stdout",
          "output_type": "stream",
          "text": [
            "Reject the H0\n"
          ]
        }
      ],
      "source": [
        "alpha = 0.01\n",
        "if p_val < alpha:\n",
        "  print('Reject the H0')\n",
        "else:\n",
        "  print('Fail to Reject H0')"
      ]
    },
    {
      "cell_type": "code",
      "execution_count": 12,
      "metadata": {
        "colab": {
          "base_uri": "https://localhost:8080/"
        },
        "id": "HYZPhy0ysJi_",
        "outputId": "404ab12d-52b9-4913-817f-894cfc55b328"
      },
      "outputs": [
        {
          "data": {
            "text/plain": [
              "0.10351021950900992"
            ]
          },
          "execution_count": 12,
          "metadata": {},
          "output_type": "execute_result"
        }
      ],
      "source": [
        "Heights_a = [162, 164, 168, 170, 174, 176, 180, 182, 186, 188, 192, 194, 198, 200, 204, 206, 210, 212, 216, 218, 222, 224, 228, 230, 234, 236, 240, 242, 246, 248, 252, 254, 258, 260, 264, 266, 270]\n",
        "Heights_b = [158, 162, 166, 170, 174, 178, 182, 186, 190, 194, 198, 202, 206, 210, 214, 218, 222, 226, 230, 234, 238, 242, 246, 250, 254, 258, 262, 266, 270, 274, 278, 282, 286, 290, 294, 298, 302]\n",
        "alpha = 0.1\n",
        "z_stat, p_val = test.ztest(x1=Heights_a, x2=Heights_b, value=0, alternative='two-sided')\n",
        "p_val\n"
      ]
    },
    {
      "cell_type": "code",
      "execution_count": 13,
      "metadata": {
        "colab": {
          "base_uri": "https://localhost:8080/"
        },
        "id": "Y8HHxIpvtMQe",
        "outputId": "63129b3a-6e83-44cc-e09f-78f517adc6c5"
      },
      "outputs": [
        {
          "name": "stdout",
          "output_type": "stream",
          "text": [
            "Failed to Reject H0\n"
          ]
        }
      ],
      "source": [
        "alpha = 0.1\n",
        "if p_val < alpha:\n",
        "  print('Reject H0')\n",
        "else:\n",
        "  print('Failed to Reject H0')"
      ]
    },
    {
      "cell_type": "markdown",
      "metadata": {},
      "source": [
        "## Assignment problems"
      ]
    },
    {
      "cell_type": "markdown",
      "metadata": {},
      "source": [
        "### Server A or B?\n",
        "\n",
        "An IT team is comparing the response times of two different web servers, Server A and Server B, under a specific load. They have collected response time data for a sample of requests.\n",
        "\n",
        "Server A: Mean response time of 120 milliseconds from 30 requests, with a standard deviation of 15 milliseconds.\n",
        "\n",
        "Server B: Mean response time of 110 milliseconds from 35 requests, with a standard deviation of 12 milliseconds.\n",
        "\n",
        "Conduct an appropriate test to determine if there is a significant difference in the mean response times between the two servers. Assume a 5% significance level."
      ]
    },
    {
      "cell_type": "code",
      "execution_count": 14,
      "metadata": {},
      "outputs": [
        {
          "name": "stdout",
          "output_type": "stream",
          "text": [
            "P-value 0.003343064983343025\n"
          ]
        },
        {
          "data": {
            "text/plain": [
              "True"
            ]
          },
          "execution_count": 14,
          "metadata": {},
          "output_type": "execute_result"
        }
      ],
      "source": [
        "#H0 = server A = Server B\n",
        "#HA = Server A != Server B\n",
        "\n",
        "x_a = 120\n",
        "n_a = 30\n",
        "sd_a = 15\n",
        "\n",
        "x_b = 110\n",
        "n_b = 35\n",
        "sd_b = 12\n",
        "\n",
        "denom = np.sqrt((sd_a**2/n_a)+(sd_b**2/n_b))\n",
        "\n",
        "z = (x_a - x_b)/denom\n",
        "\n",
        "p_val = 2 * (1-norm.cdf(np.abs(z)))\n",
        "print('P-value', p_val)\n",
        "\n",
        "p_val < 0.05"
      ]
    },
    {
      "cell_type": "markdown",
      "metadata": {},
      "source": [
        "### Average hourly wage\n",
        "The average hourly wage of a sample of 150 workers in plant 'A' was Rs.2·87 with a standard deviation of Rs. 1·08.\n",
        "\n",
        "The average wage of a sample of 200 workers in plant 'B' was Rs. 2·56 with a standard deviation of Rs. 1·28.\n",
        "\n",
        "(i) Calculate the Z-score for this scenario.\n",
        "\n",
        "(ii) Can an applicant safely assume that the hourly wages paid by plant 'A' are higher than those paid by plant 'B' at a 1% significance level?"
      ]
    },
    {
      "cell_type": "code",
      "execution_count": 15,
      "metadata": {},
      "outputs": [
        {
          "name": "stdout",
          "output_type": "stream",
          "text": [
            "Z-score 2.453219634102559\n",
            "P-value 0.007079193063952549\n"
          ]
        },
        {
          "data": {
            "text/plain": [
              "True"
            ]
          },
          "execution_count": 15,
          "metadata": {},
          "output_type": "execute_result"
        }
      ],
      "source": [
        "x1 = 2.87\n",
        "n1 = 150\n",
        "sd1 = 1.08\n",
        "\n",
        "x2 = 2.56\n",
        "n2 = 200\n",
        "sd2 = 1.28\n",
        "\n",
        "denom = np.sqrt((sd1**2/n1) + (sd2 **2 / n2))\n",
        "\n",
        "z_score = (x1 - x2)/ denom\n",
        "\n",
        "print('Z-score', z_score)\n",
        "\n",
        "p_value = 1-norm.cdf(z_score)\n",
        "print('P-value', p_value)\n",
        "\n",
        "p_value < 0.01"
      ]
    },
    {
      "cell_type": "code",
      "execution_count": null,
      "metadata": {},
      "outputs": [],
      "source": []
    }
  ],
  "metadata": {
    "colab": {
      "provenance": []
    },
    "kernelspec": {
      "display_name": "Python 3",
      "name": "python3"
    },
    "language_info": {
      "codemirror_mode": {
        "name": "ipython",
        "version": 3
      },
      "file_extension": ".py",
      "mimetype": "text/x-python",
      "name": "python",
      "nbconvert_exporter": "python",
      "pygments_lexer": "ipython3",
      "version": "3.12.3"
    }
  },
  "nbformat": 4,
  "nbformat_minor": 0
}
