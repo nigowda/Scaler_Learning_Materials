{
 "cells": [
  {
   "cell_type": "code",
   "execution_count": 1,
   "metadata": {
    "id": "1LM7QbF7p26d"
   },
   "outputs": [],
   "source": [
    "import numpy as np\n",
    "from scipy.stats import norm"
   ]
  },
  {
   "cell_type": "markdown",
   "metadata": {},
   "source": [
    "# One sameple Z_Test_Proportion test"
   ]
  },
  {
   "cell_type": "markdown",
   "metadata": {
    "id": "zHdJTe9I6AVu"
   },
   "source": [
    "You are a product manager for a company that has recently launched a new product.\n",
    "\n",
    "Customer satisfaction is a critical metric, and you want to determine if the proportion of satisfied customers with the new product meets your target satisfaction level of 70%.\n",
    "\n",
    "You collected a random sample of 150 customer reviews, and 115 of them expressed satisfaction with the product."
   ]
  },
  {
   "cell_type": "code",
   "execution_count": 11,
   "metadata": {
    "colab": {
     "base_uri": "https://localhost:8080/"
    },
    "id": "byfoXOnd6B4Y",
    "outputId": "e5fce24b-cdc1-4a2f-aa29-e2a3348a06c5"
   },
   "outputs": [
    {
     "name": "stdout",
     "output_type": "stream",
     "text": [
      "1.7817416127494983\n"
     ]
    },
    {
     "data": {
      "text/plain": [
       "np.float64(0.07479137758694376)"
      ]
     },
     "execution_count": 11,
     "metadata": {},
     "output_type": "execute_result"
    }
   ],
   "source": [
    "target_satisfaction  = 0.7\n",
    "\n",
    "p = target_satisfaction\n",
    "\n",
    "satisfied_customers = 115\n",
    "total_customers = 150\n",
    "\n",
    "p_hat = satisfied_customers / total_customers # propotion of satistied customers\n",
    "\n",
    "n = total_customers # Total customers\n",
    "\n",
    "z = (p_hat-p)/np.sqrt((p*(1-p))/n)\n",
    "\n",
    "print(z)\n",
    "\n",
    "p_val = 2*(1-norm.cdf(np.abs(z)))\n",
    "\n",
    "p_val"
   ]
  },
  {
   "cell_type": "code",
   "execution_count": 12,
   "metadata": {
    "colab": {
     "base_uri": "https://localhost:8080/"
    },
    "id": "RRotoeaW_exX",
    "outputId": "3291e6b4-5431-4bd9-8c6e-71212ed4ddf8"
   },
   "outputs": [
    {
     "name": "stdout",
     "output_type": "stream",
     "text": [
      "Fail to Reject to Ho\n"
     ]
    }
   ],
   "source": [
    "alpha = 0.05\n",
    "\n",
    "if p_val < alpha:\n",
    "  print('Reject H0')\n",
    "else:\n",
    "  print('Fail to Reject to Ho')"
   ]
  },
  {
   "cell_type": "code",
   "execution_count": null,
   "metadata": {
    "id": "StN8e260CPJW"
   },
   "outputs": [],
   "source": []
  },
  {
   "cell_type": "markdown",
   "metadata": {
    "id": "bI06Ft4iAzxg"
   },
   "source": [
    "## Quiz\n",
    "A researcher is studying the satisfaction level of customers after implementing a new customer service system.\n",
    "\n",
    "They collected survey responses from 250 customers and found that 65 of them were dissatisfied with the new system.\n",
    "\n",
    "The researcher wants to test the null hypothesis that no more than 30% of customers are dissatisfied with the new system.\n",
    "Use the p-value technique to test the claim with a significance level of α = 0.05.\n",
    "\n",
    "a. Reject the Null Hyopothesis\n",
    "\n",
    "b. Fail to Reject\n",
    "\n",
    "c. The p_val is irrelevant in this context\n",
    "\n",
    "d. THe null hypothesis can't be tested with the given data"
   ]
  },
  {
   "cell_type": "code",
   "execution_count": 13,
   "metadata": {
    "colab": {
     "base_uri": "https://localhost:8080/"
    },
    "id": "FGikHbi7CPr_",
    "outputId": "2d4fb3f5-5d72-4a84-e554-a26f0b08f01b"
   },
   "outputs": [
    {
     "data": {
      "text/plain": [
       "np.float64(0.9162268612556912)"
      ]
     },
     "execution_count": 13,
     "metadata": {},
     "output_type": "execute_result"
    }
   ],
   "source": [
    "target_dis_satisfaction  = 0.3\n",
    "\n",
    "p = target_dis_satisfaction\n",
    "\n",
    "dis_satisfied_customers = 65\n",
    "total_customers = 250\n",
    "\n",
    "p_hat = dis_satisfied_customers / total_customers # propotion of satistied customers\n",
    "\n",
    "n = total_customers # Total customers\n",
    "\n",
    "z = (p_hat-p)/np.sqrt((p*(1-p))/n)\n",
    "\n",
    "p_val = 1-norm.cdf(z)\n",
    "\n",
    "p_val"
   ]
  },
  {
   "cell_type": "code",
   "execution_count": 14,
   "metadata": {
    "colab": {
     "base_uri": "https://localhost:8080/"
    },
    "id": "SJqs5w7KDPjm",
    "outputId": "27e7f6e9-759b-4d40-a540-f8e40292ef30"
   },
   "outputs": [
    {
     "name": "stdout",
     "output_type": "stream",
     "text": [
      "Fail to Reject to Ho\n"
     ]
    }
   ],
   "source": [
    "alpha = 0.05\n",
    "\n",
    "if p_val < alpha:\n",
    "  print('Reject H0')\n",
    "else:\n",
    "  print('Fail to Reject to Ho')"
   ]
  },
  {
   "cell_type": "markdown",
   "metadata": {},
   "source": [
    "## Assignment problems: \n",
    "### Rice and Wheat\n",
    "\n",
    "Out of a sample of 1,000 people residing in Maharashtra, 540 are rice eaters, while the rest consume wheat primarily.\n",
    "\n",
    "Can we assume that rice and wheat are equally popular in this state at a 5% significance level?"
   ]
  },
  {
   "cell_type": "code",
   "execution_count": 15,
   "metadata": {},
   "outputs": [
    {
     "name": "stdout",
     "output_type": "stream",
     "text": [
      "Z-statistic: 2.537956625422939\n",
      "P-value: 0.011150180283180655\n",
      "Reject the null hypothesis. Rice and wheat are not equally popular in Maharashtra at a 5% significance level.\n"
     ]
    }
   ],
   "source": [
    "import statsmodels.api as sm\n",
    "\n",
    "# H0: Both rice and wheat are equally popular in the State (P = 0.5)\n",
    "# Ha: Both rice and wheat are not equally popular in the State( P ≠ 0.5)(two-tailed test).\n",
    "\n",
    "# Given data\n",
    "total_population = 1000\n",
    "rice_eaters = 540\n",
    "wheat_eaters = total_population - rice_eaters\n",
    "assumed_proportion = 0.5  # Assuming equal popularity of rice and wheat\n",
    "\n",
    "# Hypothesis test\n",
    "z_stat, p_value = sm.stats.proportions_ztest(rice_eaters, total_population, assumed_proportion, alternative='two-sided')\n",
    "print(\"Z-statistic:\", z_stat)\n",
    "print(\"P-value:\", p_value)\n",
    "\n",
    "alpha = 0.05\n",
    "if p_value < alpha:\n",
    "    print(\"Reject the null hypothesis. Rice and wheat are not equally popular in Maharashtra at a 5% significance level.\")\n",
    "else:\n",
    "    print(\"Fail to reject the null hypothesis. There is no significant difference in the popularity of rice and wheat in Maharashtra at a 5% significance level.\")"
   ]
  },
  {
   "cell_type": "markdown",
   "metadata": {},
   "source": [
    "###  Politician Support for Environment\n",
    "A state senator cannot decide how to vote on an environmental protection bill.\n",
    "\n",
    "The senator decides to request a survey and if the proportion of registered voters supporting the bill exceeds 0.60, she will vote for it.\n",
    "\n",
    "A random sample of 750 voters is selected and 495 are found to support the bill.\n",
    "\n",
    "Conduct an appropriate test at a 90% confidence interval."
   ]
  },
  {
   "cell_type": "markdown",
   "metadata": {},
   "source": [
    "Explanation:\n",
    "\n",
    "Null Hypothesis: The proportion of registered voters supporting the bill is less than or equal to 0.60 (p≤0.60)\n",
    "\n",
    "Alternative Hypothesis: The proportion of registered voters supporting the bill is greater than 0.60(p>0.60)\n",
    "\n",
    "Hence we would need to perform a Right Tailed Z Proportion Test."
   ]
  },
  {
   "cell_type": "code",
   "execution_count": 16,
   "metadata": {},
   "outputs": [
    {
     "name": "stdout",
     "output_type": "stream",
     "text": [
      "Z-statistic: 3.354101966249688\n",
      "P-value: 0.0003981150787953913\n",
      "Reject the null hypothesis. There is evidence to suggest that the proportion of registered voters supporting the bill is greater than 0.60.\n"
     ]
    }
   ],
   "source": [
    "import scipy.stats as stats\n",
    "import math\n",
    "\n",
    "# Given data\n",
    "sample_size = 750\n",
    "observed_support = 495\n",
    "hypothesized_proportion = 0.60\n",
    "confidence_level = 0.90\n",
    "\n",
    "\n",
    "# Calculate the sample proportion\n",
    "sample_proportion = observed_support / sample_size\n",
    "\n",
    "\n",
    "# Calculate the standard error\n",
    "standard_error = math.sqrt((hypothesized_proportion * (1 - hypothesized_proportion)) / sample_size)\n",
    "\n",
    "\n",
    "# Calculate the Z-score\n",
    "z_stat = (sample_proportion - hypothesized_proportion) / standard_error\n",
    "\n",
    "\n",
    "# Calculate the p-value by conducting Right Tailed Test\n",
    "p_value = 1 - stats.norm.cdf(z_stat)\n",
    "\n",
    "print(\"Z-statistic:\", z_stat)\n",
    "print(\"P-value:\", p_value)\n",
    "\n",
    "\n",
    "alpha = 1 - confidence_level\n",
    "if p_value < alpha:\n",
    " print(\"Reject the null hypothesis. There is evidence to suggest that the proportion of registered voters supporting the bill is greater than 0.60.\")\n",
    "else:\n",
    " print(\"Fail to reject the null hypothesis. There is no evidence to suggest that the proportion of registered voters supporting the bill is greater than 0.60.\")"
   ]
  },
  {
   "cell_type": "markdown",
   "metadata": {},
   "source": [
    "###  Bullseye\n",
    "A group of archers claims that they can hit the bullseye with a success rate of 70%. To test this claim, a random sample of 100 shots is taken, and 65 of them hit the bullseye.\n",
    "\n",
    "Is there significant evidence to suggest that the archer’s actual success rate is greater than 70% at a 95% confidence level?"
   ]
  },
  {
   "cell_type": "code",
   "execution_count": 17,
   "metadata": {},
   "outputs": [
    {
     "name": "stdout",
     "output_type": "stream",
     "text": [
      "0.8623832379625824\n"
     ]
    },
    {
     "data": {
      "text/plain": [
       "np.False_"
      ]
     },
     "execution_count": 17,
     "metadata": {},
     "output_type": "execute_result"
    }
   ],
   "source": [
    "#H0 = SUCCESS <= 70%\n",
    "#HA = SUCCESS > 70%\n",
    "\n",
    "#right tailed test\n",
    "\n",
    "a=65\n",
    "TOTAL = 100\n",
    "p=0.7\n",
    "p_cap = a/TOTAL\n",
    "\n",
    "denom = np.sqrt((p*(1-p))/TOTAL)\n",
    "\n",
    "z=(p_cap-p)/denom\n",
    "\n",
    "p_value = 1-norm.cdf(z)\n",
    "print(p_value)\n",
    "\n",
    "p_value < 0.05"
   ]
  },
  {
   "cell_type": "markdown",
   "metadata": {
    "id": "Ye2FDKhTJD34"
   },
   "source": [
    "# Two sample Z_Proportion test"
   ]
  },
  {
   "cell_type": "markdown",
   "metadata": {
    "id": "hcJa3kdnG2pg"
   },
   "source": [
    "You are the manager of an e-commerce website, and you have recently implemented a new web page in hopes of increasing sales.\n",
    "\n",
    "To evaluate the effectiveness of the new page, you collected data on the conversion rates for both the old and new web pages. The conversion rate is defined as the proportion of visitors who make a purchase.\n",
    "\n",
    "- For the old web page (Web Page A), you had **1000** visitors, resulting in **50** conversions.\n",
    "- For the new web page (Web Page B), you had **500** visitors, resulting in **30** conversions.\n",
    "\n",
    "Now, you want to determine if there is a statistically significant difference in the conversion rates between the old and new web pages."
   ]
  },
  {
   "cell_type": "code",
   "execution_count": 18,
   "metadata": {
    "colab": {
     "base_uri": "https://localhost:8080/"
    },
    "id": "UflrJcu3G3-r",
    "outputId": "0e4caa0f-3929-4bc6-e5ae-ebfd8b172b3a"
   },
   "outputs": [
    {
     "data": {
      "text/plain": [
       "np.float64(0.4164853677823287)"
      ]
     },
     "execution_count": 18,
     "metadata": {},
     "output_type": "execute_result"
    }
   ],
   "source": [
    "from statsmodels.api import stats\n",
    "\n",
    "conversions = np.array([50, 30])\n",
    "visitors = np.array([1000, 500])\n",
    "z_stat, p_val = stats.proportions_ztest(conversions, visitors, alternative='two-sided')\n",
    "p_val"
   ]
  },
  {
   "cell_type": "code",
   "execution_count": 19,
   "metadata": {
    "colab": {
     "base_uri": "https://localhost:8080/"
    },
    "id": "LRzeiy8aJEg-",
    "outputId": "03d1b8bd-cb50-4e22-b916-800ebc81ff62"
   },
   "outputs": [
    {
     "name": "stdout",
     "output_type": "stream",
     "text": [
      "Fail to Reject to Ho\n"
     ]
    }
   ],
   "source": [
    "alpha = 0.05\n",
    "\n",
    "if p_val < alpha:\n",
    "  print('Reject H0')\n",
    "else:\n",
    "  print('Fail to Reject to Ho')"
   ]
  },
  {
   "cell_type": "code",
   "execution_count": 20,
   "metadata": {
    "colab": {
     "base_uri": "https://localhost:8080/"
    },
    "id": "HAoGV1OZJPKh",
    "outputId": "2fa399da-70c1-490a-8d9a-7ec64fdc31b2"
   },
   "outputs": [
    {
     "data": {
      "text/plain": [
       "np.float64(0.4164853677823288)"
      ]
     },
     "execution_count": 20,
     "metadata": {},
     "output_type": "execute_result"
    }
   ],
   "source": [
    "n1 = 1000\n",
    "n2 = 500\n",
    "x1 = 50\n",
    "x2 = 30\n",
    "p_1_hat = x1/n1\n",
    "p_2_hat = x2/n2\n",
    "\n",
    "p_hat = (x1 + x2)/(n1 +n2)\n",
    "\n",
    "z = (p_1_hat - p_2_hat)/np.sqrt(p_hat*(1-p_hat)*((1/n1) + (1/n2)))\n",
    "\n",
    "p_val = 2*(1-norm.cdf(np.abs(z)))\n",
    "p_val"
   ]
  },
  {
   "cell_type": "markdown",
   "metadata": {
    "id": "A1IN1TgMK9WV"
   },
   "source": [
    "A shoe manufacturer claims that their new running shoes make people run faster.\n",
    "To test this claim, they select two groups: Group A wears the new shoes, and Group B wears the old ones.\n",
    "\n",
    "After a 4-week trial, you find that Group A improved their running speed by 15%, while Group B improved by only 10%.\n",
    "Which test should you use to determine if the new shoes are more effective?\n",
    "\n",
    "a. One sample Z-Test\n",
    "\n",
    "b. Two sample z-test\n",
    "\n",
    "c. One Sample Propotion Z-Test\n",
    "\n",
    "d. Two Sample Proption z-Test"
   ]
  },
  {
   "cell_type": "code",
   "execution_count": 21,
   "metadata": {
    "colab": {
     "base_uri": "https://localhost:8080/"
    },
    "id": "wNlyopO1LGsg",
    "outputId": "464b7cf3-27a1-4926-ff3a-a960e93a10a4"
   },
   "outputs": [
    {
     "data": {
      "text/plain": [
       "np.float64(0.011150180283180655)"
      ]
     },
     "execution_count": 21,
     "metadata": {},
     "output_type": "execute_result"
    }
   ],
   "source": [
    "n = 1000\n",
    "p= 0.5\n",
    "rice_eaters = 540\n",
    "wheat_eaters = 460\n",
    "z_stat, p_val = stats.proportions_ztest(rice_eaters, n, p, alternative='two-sided')\n",
    "p_val"
   ]
  },
  {
   "cell_type": "markdown",
   "metadata": {},
   "source": [
    "## Assignment problems:"
   ]
  },
  {
   "cell_type": "markdown",
   "metadata": {},
   "source": [
    "### Quidditch teams\n",
    "\n",
    "The Quidditch teams at Hogwarts conducted tryouts for two positions: Chasers and Seekers.\n",
    "\n",
    "In Group Chasers, out of 90 students who tried out, 57 were selected. In Group Seekers, out of 120 students who tried out, 98 were selected.\n",
    "\n",
    "Is there a significant difference in the proportion of students selected for Chasers and Seekers positions?\n",
    "\n",
    "Conduct a test at 90% confidence level."
   ]
  },
  {
   "cell_type": "markdown",
   "metadata": {},
   "source": [
    "Null Hypothesis: There is no significant difference in the proportion of students selected for Chasers and Seekers positions at Hogwarts.\n",
    "\n",
    "Alternative Hypothesis: There is a significant difference in the proportion of students selected for Chasers and Seekers positions at Hogwarts."
   ]
  },
  {
   "cell_type": "code",
   "execution_count": 22,
   "metadata": {},
   "outputs": [
    {
     "name": "stdout",
     "output_type": "stream",
     "text": [
      "Z-statistic: -2.990306921349541\n",
      "P-value: 0.002786972588958094\n",
      "Reject the null hypothesis\n"
     ]
    }
   ],
   "source": [
    "import statsmodels.api as sm\n",
    "\n",
    "# Data for Chasers\n",
    "selected_chasers = 57\n",
    "total_chasers = 90\n",
    "\n",
    "# Data for Seekers\n",
    "selected_seekers = 98\n",
    "total_seekers = 120\n",
    "\n",
    "# Perform two-sample Z-proportion test\n",
    "z_stat, p_value = sm.stats.proportions_ztest([selected_chasers, selected_seekers], [total_chasers, total_seekers], alternative = 'two-sided')\n",
    "\n",
    "# Confidence level\n",
    "confidence_level = 0.90\n",
    "# Calculate the critical value for a two-tailed test\n",
    "alpha = 1 - confidence_level\n",
    "\n",
    "# Print the results\n",
    "print(f\"Z-statistic: {z_stat}\")\n",
    "print(f\"P-value: {p_value}\")\n",
    "\n",
    "# Decision Rule\n",
    "if p_value < alpha:\n",
    "    print(\"Reject the null hypothesis\")\n",
    "else:\n",
    "    print(\"Fail to Reject the null hypothesis.\")"
   ]
  },
  {
   "cell_type": "markdown",
   "metadata": {},
   "source": [
    "###  Best Season of Naruto\n",
    "\n",
    "As a product manager, you want to evaluate the user satisfaction for two different seasons of Naruto Shippuden (Season 1 and Season 2).\n",
    "\n",
    "You collected feedback from 250 viewers who watched Season 1 of Naruto Shippuden, and 120 expressed satisfaction. Similarly, for Season 2, you gathered data from 300 viewers, and 150 of them expressed satisfaction.\n",
    "\n",
    "Conduct an appropriate test at a 95% confidence interval to determine if there's a higher user satisfaction for Season 2 than for Season 1."
   ]
  },
  {
   "cell_type": "code",
   "execution_count": 23,
   "metadata": {},
   "outputs": [
    {
     "name": "stdout",
     "output_type": "stream",
     "text": [
      "Z-statistic: -0.46717659215115714\n",
      "P-value: 0.3201867697265242\n",
      "Fail to reject null\n"
     ]
    }
   ],
   "source": [
    "import numpy as np\n",
    "import statsmodels.api as sm\n",
    "\n",
    "#Ho : Season2 = Season 1\n",
    "#H1 : Season2 > Season 1\n",
    "\n",
    "a=np.array([120, 150])\n",
    "b=np.array([250,300])\n",
    "\n",
    "z_stat, p_value = sm.stats.proportions_ztest(a, b, alternative='smaller')\n",
    "print(\"Z-statistic:\", z_stat)\n",
    "print(\"P-value:\", p_value)\n",
    "\n",
    "if p_value < 0.05:\n",
    "    print(\"reject null\")\n",
    "else:\n",
    "    print('Fail to reject null')"
   ]
  },
  {
   "cell_type": "markdown",
   "metadata": {},
   "source": [
    "### Are they comparable?\n",
    "\n",
    "You are testing two drugs as a remedy. Drug A is effective in 41 out of a sample of 195. Drug B works on 351 out of 605 people.\n",
    "\n",
    "Are the two drugs comparable in terms of effectiveness? Use a 5% significance level for testing.\n",
    "\n",
    "Perform an appropriate test."
   ]
  },
  {
   "cell_type": "code",
   "execution_count": 24,
   "metadata": {},
   "outputs": [
    {
     "name": "stdout",
     "output_type": "stream",
     "text": [
      "Z-statistic: -8.985900954503084\n",
      "P-value: 2.566230446480293e-19\n",
      "Reject the null hypothesis. The proportions of Drug A and Drug B are significantly different.\n"
     ]
    }
   ],
   "source": [
    "# H0: The proportions are the same.\n",
    "# H1: The proportions are different.\n",
    "\n",
    "# Given data for Drug A\n",
    "success_A = 41\n",
    "sample_size_A = 195\n",
    "\n",
    "# Given data for Drug B\n",
    "success_B = 351\n",
    "sample_size_B = 605\n",
    "\n",
    "# Perform the two-proportion Z-test\n",
    "z_stat, p_value = sm.stats.proportions_ztest([success_A, success_B], [sample_size_A, sample_size_B], alternative='two-sided')\n",
    "\n",
    "# Significance level\n",
    "alpha = 0.05\n",
    "\n",
    "# Print the results\n",
    "print(f\"Z-statistic: {z_stat}\")\n",
    "print(f\"P-value: {p_value}\")\n",
    "\n",
    "# Decision Rule\n",
    "if p_value < alpha:\n",
    "    print(\"Reject the null hypothesis. The proportions of Drug A and Drug B are significantly different.\")\n",
    "else:\n",
    "    print(\"Fail to reject the null hypothesis. There is no significant difference in the proportions of Drug A and Drug B.\")"
   ]
  },
  {
   "cell_type": "markdown",
   "metadata": {},
   "source": [
    "###  Post Engagement Rate\n",
    "As a social media analyst, you want to compare the engagement rates of posts from two different accounts (Account X and Account Y).\n",
    "\n",
    "You collected data on 180 posts from Account X, where 40 received high engagement. Similarly, you collect data on 200 posts from Account Y, where 60 received high engagement.\n",
    "\n",
    "Conduct an appropriate test at a 95% confidence interval to determine if there's a significant difference in high engagement proportions between the two accounts."
   ]
  },
  {
   "cell_type": "markdown",
   "metadata": {},
   "source": [
    "Null Hypothesis: The proportion of posts with high engagement is the same for Account X and Account Y.\n",
    "\n",
    "Alternative Hypothesis: The proportion of posts with high engagement is different for Account X and Account Y."
   ]
  },
  {
   "cell_type": "code",
   "execution_count": 25,
   "metadata": {},
   "outputs": [
    {
     "name": "stdout",
     "output_type": "stream",
     "text": [
      "Z-statistic: -1.7191729277636834\n",
      "P-value: 0.08558288874449103\n",
      "Fail to reject the null hypothesis. There is no significant difference in high engagement proportions between Account X and Account Y.\n"
     ]
    }
   ],
   "source": [
    "# Given data\n",
    "posts_X = 180\n",
    "high_engagement_X = 40\n",
    "posts_Y = 200\n",
    "high_engagement_Y = 60\n",
    "\n",
    "# Conduct a two-sample z-proportion test\n",
    "count = np.array([high_engagement_X, high_engagement_Y])\n",
    "nobs = np.array([posts_X, posts_Y])\n",
    "\n",
    "z_stat, p_value = sm.stats.proportions_ztest(count, nobs, alternative='two-sided')\n",
    "\n",
    "# Display results\n",
    "print(\"Z-statistic:\", z_stat)\n",
    "print(\"P-value:\", p_value)\n",
    "\n",
    "\n",
    "# Check for significance\n",
    "alpha = 0.05\n",
    "if p_value < alpha:\n",
    "   print(\"Reject the null hypothesis. There is a significant difference in high engagement proportions between Account X and Account Y.\")\n",
    "else:\n",
    "   print(\"Fail to reject the null hypothesis. There is no significant difference in high engagement proportions between Account X and Account Y.\")"
   ]
  },
  {
   "cell_type": "code",
   "execution_count": null,
   "metadata": {},
   "outputs": [],
   "source": []
  }
 ],
 "metadata": {
  "colab": {
   "provenance": []
  },
  "kernelspec": {
   "display_name": "Python 3 (ipykernel)",
   "language": "python",
   "name": "python3"
  },
  "language_info": {
   "codemirror_mode": {
    "name": "ipython",
    "version": 3
   },
   "file_extension": ".py",
   "mimetype": "text/x-python",
   "name": "python",
   "nbconvert_exporter": "python",
   "pygments_lexer": "ipython3",
   "version": "3.12.5"
  }
 },
 "nbformat": 4,
 "nbformat_minor": 4
}
